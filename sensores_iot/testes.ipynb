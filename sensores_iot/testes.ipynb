{
 "cells": [
  {
   "cell_type": "code",
   "execution_count": null,
   "metadata": {},
   "outputs": [],
   "source": [
    "from kafka import KafkaConsumer, KafkaProducer\n",
    "from unittest.mock import MagicMock\n",
    "import pytest\n",
    "from psycopg2 import OperationalError\n",
    "import importlib\n",
    "import util as f\n",
    "importlib.reload(f)\n",
    "from dotenv import load_dotenv\n",
    "load_dotenv()\n",
    "import os\n",
    "import uuid"
   ]
  },
  {
   "cell_type": "code",
   "execution_count": 43,
   "metadata": {},
   "outputs": [],
   "source": [
    "topico = 'sensores-iot'\n",
    "servidor= 'localhost:9092'"
   ]
  },
  {
   "cell_type": "markdown",
   "metadata": {},
   "source": [
    "PRODUCER"
   ]
  },
  {
   "cell_type": "code",
   "execution_count": 97,
   "metadata": {},
   "outputs": [
    {
     "name": "stdout",
     "output_type": "stream",
     "text": [
      "Teste criar producer foi bem-sucedido!!!\n",
      "Fechando conexão depois do teste....\n"
     ]
    }
   ],
   "source": [
    "def test_criar_producer():\n",
    "\n",
    "    producer = f.criar_producer(servidor)\n",
    "    assert producer is not None, \"Producer retornou None\"\n",
    "    assert isinstance(producer, KafkaProducer), \"Não é uma instância de KafkaProducer\"\n",
    "\n",
    "    print(\"Teste criar producer foi bem-sucedido!!!\")\n",
    "\n",
    "    print(\"Fechando conexão depois do teste....\")\n",
    "    producer.close()\n",
    "\n",
    "test_criar_producer()"
   ]
  },
  {
   "cell_type": "code",
   "execution_count": 98,
   "metadata": {},
   "outputs": [
    {
     "name": "stdout",
     "output_type": "stream",
     "text": [
      "Teste para gerar dados para o sensor foi bem-sucedido!!!\n"
     ]
    }
   ],
   "source": [
    "dados = f.gerar_dados_sensor()\n",
    "\n",
    "def test_gerar_dados_sensor():\n",
    "    #Verificar se retorna um dicionario\n",
    "    assert isinstance(dados, dict)\n",
    "\n",
    "    #Verificar se o dicionario tem as chaves corretas\n",
    "    chaves_esperadas = {'sensor_id', 'temperatura', 'umidade', 'data_hora', 'localizacao'}\n",
    "    assert set(dados.keys()) == chaves_esperadas, \"Chaves não correspondentes\"\n",
    "\n",
    "    #Verificar se os tipos estão no formato correto\n",
    "    assert isinstance(dados['sensor_id'], str), \"sensor_id não é uma string\"\n",
    "    assert isinstance(dados['temperatura'], float), \"temperatura não é um float\"\n",
    "    assert isinstance(dados['umidade'], float), \"umidade não é um float\"\n",
    "    assert isinstance(dados['data_hora'], str), \"data_hora não é uma string\"\n",
    "    assert isinstance(dados['localizacao'], str), \"localizacao não é uma string\"\n",
    "\n",
    "    #Vericar se o intervalo esta o range de valores esperados\n",
    "    assert 12.00 <= dados['temperatura'] <= 40.00, \"temperatuta fora do intervalo esperado\"\n",
    "    assert 20.00 <= dados['umidade'] <= 80.00, \"umidade fora do intervalo esperado\"\n",
    "\n",
    "    print(\"Teste para gerar dados para o sensor foi bem-sucedido!!!\")\n",
    "\n",
    "test_gerar_dados_sensor()\n",
    "     "
   ]
  },
  {
   "cell_type": "code",
   "execution_count": 102,
   "metadata": {},
   "outputs": [
    {
     "name": "stdout",
     "output_type": "stream",
     "text": [
      "[INFO] Dados enviados para o 'sensores-iot': {'sensor_id': 'bfcb6899-2406-40ba-be6f-4ce57c83bd82', 'temperatura': 13.93, 'umidade': 73.0, 'data_hora': '1981-05-01T18:48:02', 'localizacao': 'Pacheco'}\n",
      "Teste enviar dados foi bem-sucedido!!!\n"
     ]
    }
   ],
   "source": [
    "def test_enviar_dados():\n",
    "    mock_producer = MagicMock()\n",
    "\n",
    "    f.enviar_dados(mock_producer, topico, dados)\n",
    "\n",
    "    #Aqui verifica se o método send foi chamado corretamente com os parametros certos\n",
    "    mock_producer.send.assert_called_once_with(topico, dados)\n",
    "\n",
    "    print(\"Teste enviar dados foi bem-sucedido!!!\")\n",
    "\n",
    "test_enviar_dados()"
   ]
  },
  {
   "cell_type": "markdown",
   "metadata": {},
   "source": [
    "CONEXÂO"
   ]
  },
  {
   "cell_type": "code",
   "execution_count": 103,
   "metadata": {},
   "outputs": [
    {
     "name": "stdout",
     "output_type": "stream",
     "text": [
      "[INFO] Conexao com o PostgreSQL estabelecida.\n",
      "[DEBUG] Conexao retornada: <connection object at 0x000002227CB20590; dsn: 'user=sensores_user password=xxx dbname=sensores_db host=localhost port=5432 client_encoding=UTF8', closed: 0>\n",
      "Conexao com o PostgreSQL fechada após o teste.\n"
     ]
    }
   ],
   "source": [
    "def test_criar_conexao_postgresql():\n",
    "    database=os.getenv('POSTGRES_DB')\n",
    "    user=os.getenv('POSTGRES_USER')\n",
    "    password=os.getenv('POSTGRES_PASSWORD')\n",
    "    host=\"localhost\"\n",
    "    porta=\"5432\"\n",
    "\n",
    "    try:\n",
    "        conexao = f.criar_conexao_postgresql(database, user, password, host, porta)\n",
    "        print(\"[DEBUG] Conexao retornada:\", conexao)\n",
    "        assert conexao is not None\n",
    "        assert conexao.closed == 0\n",
    "    except OperationalError as e:\n",
    "        pytest.fail(f\"Erro ao conectar ao PostgreSQL: {e}\")\n",
    "    except AssertionError as e:\n",
    "        print(\"[ERROR] Falha de assercao:\", repr(e))\n",
    "    except Exception as e:\n",
    "        try:\n",
    "            print(f\"[ERROR] Erro inesperado: {e}\")\n",
    "        except UnicodeDecodeError:\n",
    "            print(f\"[ERROR] Erro inesperado (caracteres inválidos): {repr(e)}\")\n",
    "    finally:\n",
    "        if conexao and conexao.closed == 0:\n",
    "            conexao.close()\n",
    "            print(\"Conexao com o PostgreSQL fechada após o teste.\")\n",
    "\n",
    "test_criar_conexao_postgresql()"
   ]
  },
  {
   "cell_type": "markdown",
   "metadata": {},
   "source": [
    "CRIAR SCHEMA"
   ]
  },
  {
   "cell_type": "code",
   "execution_count": 104,
   "metadata": {},
   "outputs": [
    {
     "name": "stdout",
     "output_type": "stream",
     "text": [
      "[INFO] Conexao com o PostgreSQL estabelecida.\n"
     ]
    }
   ],
   "source": [
    "database=os.getenv('POSTGRES_DB')\n",
    "user=os.getenv('POSTGRES_USER')\n",
    "password=os.getenv('POSTGRES_PASSWORD')\n",
    "host=\"localhost\"\n",
    "porta=\"5432\"\n",
    "\n",
    "\n",
    "conexao = f.criar_conexao_postgresql(database, user, password, host, porta)\n",
    "\n"
   ]
  },
  {
   "cell_type": "code",
   "execution_count": 106,
   "metadata": {},
   "outputs": [
    {
     "name": "stdout",
     "output_type": "stream",
     "text": [
      "[INFO] Criacao do schema 'schema_teste' foi bem-sucedido.\n",
      "Teste criar schema 'schema_teste' foi bem-sucedido!!!\n"
     ]
    }
   ],
   "source": [
    "def test_criar_schema():\n",
    "    schema = 'schema_teste'\n",
    "    cursor = conexao.cursor()\n",
    "\n",
    "    f.criar_schema(schema, conexao)\n",
    "\n",
    "    cursor.execute(f\"\"\"SELECT schema_name \n",
    "                   FROM information_schema.schemata\n",
    "                   WHERE schema_name = '{schema}'\"\"\")\n",
    "    resultado = cursor.fetchone()\n",
    "    assert resultado is not None, f\"O schema '{schema}' não foi criado\"\n",
    "    assert resultado[0] == schema, f\"O schema foi criado com nome incorreto: {resultado[0]}\"\n",
    "\n",
    "    cursor.close()\n",
    "    print(f\"Teste criar schema '{schema}' foi bem-sucedido!!!\")\n",
    "\n",
    "\n",
    "test_criar_schema()"
   ]
  },
  {
   "cell_type": "markdown",
   "metadata": {},
   "source": [
    "CRIAR TABELA"
   ]
  },
  {
   "cell_type": "code",
   "execution_count": null,
   "metadata": {},
   "outputs": [
    {
     "name": "stdout",
     "output_type": "stream",
     "text": [
      "[INFO] Criacao de tabela 'tabela_teste' no schema 'schema_teste' foi bem-sucedido.\n",
      "Teste criar tabela 'tabela_teste' no schema 'schema_teste' foi bem-sucedido!!!\n"
     ]
    }
   ],
   "source": [
    "def test_criar_tabela():\n",
    "    colunas = [\n",
    "        \"sensor_id UUID PRIMARY KEY\",\n",
    "        \"temperatura FLOAT\",\n",
    "        \"umidade FLOAT\",\n",
    "        \"data_hora TIMESTAMP\",\n",
    "        \"localizacao VARCHAR(100)\"\n",
    "    ]\n",
    "\n",
    "    tabela = 'tabela_teste'\n",
    "    schema = 'schema_teste'\n",
    "\n",
    "    f.criar_tabela(colunas, schema, tabela, conexao)\n",
    "\n",
    "    # Verifica se a tabela foi criada corretamente\n",
    "    cursor = conexao.cursor()\n",
    "    cursor.execute(f\"\"\"SELECT table_name \n",
    "                   FROM information_schema.tables\n",
    "                   WHERE table_schema = '{schema}' AND table_name = '{tabela}'\"\"\")\n",
    "    resultado = cursor.fetchone()\n",
    "    assert resultado is not None, f\"A tabela '{tabela}' não foi criada no schema '{schema}'\"\n",
    "    assert resultado[0] == tabela, f\"A tabela foi criada com nome incorreto: {resultado[0]}\"\n",
    "\n",
    "    cursor.close()\n",
    "    print(f\"Teste criar tabela '{tabela}' no schema '{schema}' foi bem-sucedido!!!\")\n",
    "\n",
    "test_criar_tabela()"
   ]
  },
  {
   "cell_type": "markdown",
   "metadata": {},
   "source": [
    "CONSUMER"
   ]
  },
  {
   "cell_type": "code",
   "execution_count": 108,
   "metadata": {},
   "outputs": [
    {
     "name": "stdout",
     "output_type": "stream",
     "text": [
      "Teste criar consumer foi bem-sucedido!!!\n",
      "Fechando consumer depois do teste...\n"
     ]
    }
   ],
   "source": [
    "def test_criar_consumer():\n",
    "\n",
    "    consumer = f.criar_consumer(topico, servidor)\n",
    "    assert consumer is not None, \"Consumer retornou None\"\n",
    "    assert isinstance(consumer, KafkaConsumer), \"Consumer não é uma instância de KafkaConsumer\"\n",
    "\n",
    "    print(\"Teste criar consumer foi bem-sucedido!!!\")\n",
    "    print(\"Fechando consumer depois do teste...\")\n",
    "    consumer.close()\n",
    "\n",
    "test_criar_consumer()"
   ]
  },
  {
   "cell_type": "code",
   "execution_count": 109,
   "metadata": {},
   "outputs": [],
   "source": [
    "def consumer_mock():\n",
    "    sensor_uuid = str(uuid.uuid4())\n",
    "    mensagem_mock = MagicMock()\n",
    "    mensagem_mock.value = {\n",
    "        \"sensor_id\": sensor_uuid,\n",
    "        \"temperatura\": 22.5,\n",
    "        \"umidade\": 60,\n",
    "        \"data_hora\": \"2025-05-29T10:30:00\",\n",
    "        \"localizacao\": \"SP\"\n",
    "    }\n",
    "\n",
    "    consumer = MagicMock()\n",
    "    consumer.__iter__.return_value = [mensagem_mock]\n",
    "    return consumer\n"
   ]
  },
  {
   "cell_type": "code",
   "execution_count": 110,
   "metadata": {},
   "outputs": [
    {
     "name": "stdout",
     "output_type": "stream",
     "text": [
      "[INFO] Dados recebidos : {'sensor_id': '2d116ea1-7a2e-47cf-bc84-ff3264d8c9d8', 'temperatura': 22.5, 'umidade': 60, 'data_hora': '2025-05-29T10:30:00', 'localizacao': 'SP'}\n",
      "Teste consumir dados foi bem-sucedido!!!\n"
     ]
    },
    {
     "data": {
      "text/plain": [
       "[{'sensor_id': '2d116ea1-7a2e-47cf-bc84-ff3264d8c9d8',\n",
       "  'temperatura': 22.5,\n",
       "  'umidade': 60,\n",
       "  'data_hora': '2025-05-29T10:30:00',\n",
       "  'localizacao': 'SP'}]"
      ]
     },
     "execution_count": 110,
     "metadata": {},
     "output_type": "execute_result"
    }
   ],
   "source": [
    "def test_consumir_dados(consumer_mock):\n",
    "    dados_coletados = list(f.consumir_dados(consumer_mock))\n",
    "\n",
    "    assert len(dados_coletados) == 1, \"Era esperado coletar 1 mensagem\"\n",
    "    assert isinstance(dados_coletados[0], dict), \"Dados coletados não são um dicionário\" \n",
    "    assert \"sensor_id\" in dados_coletados[0], \"Os dados coletados devem possuir sensor_id\"\n",
    "    assert isinstance(dados_coletados[0][\"sensor_id\"], str), \"sensor_id não é uma string UUID\"\n",
    "\n",
    "    print(\"Teste consumir dados foi bem-sucedido!!!\")\n",
    "    return dados_coletados\n",
    "\n",
    "test_consumir_dados(consumer_mock())"
   ]
  },
  {
   "cell_type": "code",
   "execution_count": 111,
   "metadata": {},
   "outputs": [
    {
     "name": "stdout",
     "output_type": "stream",
     "text": [
      "[INFO] Dados armazenados na tabela 'tabela_teste' do schema 'schema_teste'.\n"
     ]
    }
   ],
   "source": [
    "def test_armazenamento_sucesso():\n",
    "    # Criando mocks\n",
    "    conexao_mock = MagicMock()\n",
    "    cursor_mock = MagicMock()\n",
    "    conexao_mock.cursor.return_value = cursor_mock\n",
    "\n",
    "    # Dados simulados\n",
    "    dados = {\"sensor_id\": \"12345\", \"valor\": 42}\n",
    "    schema = \"schema_teste\"\n",
    "    tabela = \"tabela_teste\"\n",
    "\n",
    "    # Chamando a função com mocks\n",
    "    f.armazenar_dados(dados, schema, tabela, conexao_mock)\n",
    "\n",
    "    # Verificando se os métodos corretos foram chamados\n",
    "    cursor_mock.execute.assert_called_once_with(\n",
    "        f\"INSERT INTO {schema}.{tabela} (sensor_id, valor) VALUES (%s, %s)\",\n",
    "        tuple(dados.values())\n",
    "    )\n",
    "    conexao_mock.commit.assert_called_once()\n",
    "    cursor_mock.close.assert_called_once()\n",
    "\n",
    "test_armazenamento_sucesso()"
   ]
  }
 ],
 "metadata": {
  "kernelspec": {
   "display_name": "Python 3",
   "language": "python",
   "name": "python3"
  },
  "language_info": {
   "codemirror_mode": {
    "name": "ipython",
    "version": 3
   },
   "file_extension": ".py",
   "mimetype": "text/x-python",
   "name": "python",
   "nbconvert_exporter": "python",
   "pygments_lexer": "ipython3",
   "version": "3.13.2"
  },
  "orig_nbformat": 4
 },
 "nbformat": 4,
 "nbformat_minor": 2
}
