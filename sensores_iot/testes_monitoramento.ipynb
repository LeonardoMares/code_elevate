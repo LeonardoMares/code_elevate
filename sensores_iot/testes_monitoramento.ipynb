{
 "cells": [
  {
   "cell_type": "code",
   "execution_count": 21,
   "metadata": {},
   "outputs": [
    {
     "data": {
      "text/plain": [
       "<module 'util' from 'd:\\\\Usuários\\\\Leonardo\\\\Documentos\\\\code_elevate\\\\sensores_iot\\\\util.py'>"
      ]
     },
     "execution_count": 21,
     "metadata": {},
     "output_type": "execute_result"
    }
   ],
   "source": [
    "from kafka import KafkaConsumer, KafkaProducer\n",
    "from unittest.mock import MagicMock\n",
    "import pytest\n",
    "import importlib\n",
    "import util as f\n",
    "importlib.reload(util)"
   ]
  },
  {
   "cell_type": "code",
   "execution_count": null,
   "metadata": {},
   "outputs": [],
   "source": [
    "topico = 'sensores-iot'\n",
    "servidor= 'localhost:9092'"
   ]
  },
  {
   "cell_type": "code",
   "execution_count": null,
   "metadata": {},
   "outputs": [
    {
     "name": "stdout",
     "output_type": "stream",
     "text": [
      "Teste criar producer foi bem-sucedido!!!\n",
      "Fechando conexão depois do teste\n"
     ]
    }
   ],
   "source": [
    "def test_criar_producer():\n",
    "\n",
    "    producer = f.criar_producer(servidor)\n",
    "\n",
    "    assert producer is not None, \"Producer retornou None\"\n",
    "    assert isinstance(producer, KafkaProducer), \"Não é uma instância de KafkaProducer\"\n",
    "\n",
    "    print(\"Teste criar producer foi bem-sucedido!!!\")\n",
    "\n",
    "    print(\"Fechando conexão depois do teste....\")\n",
    "    producer.close()\n",
    "\n",
    "test_criar_producer()"
   ]
  },
  {
   "cell_type": "code",
   "execution_count": 15,
   "metadata": {},
   "outputs": [
    {
     "name": "stdout",
     "output_type": "stream",
     "text": [
      "Teste para gerar dados para o sensor foi bem-sucedido!!!\n"
     ]
    }
   ],
   "source": [
    "dados = f.gerar_dados_sensor()\n",
    "\n",
    "def test_gerar_dados_sensor():\n",
    "\n",
    "    #Vrificar ser retorna um dicionario\n",
    "    assert isinstance(dados, dict)\n",
    "\n",
    "    #Verificar se o dicionario tem as chaves corretas\n",
    "    chaves_esperadas = {'sensor_id', 'temperatura', 'umidade', 'data_hora', 'localizacao'}\n",
    "    assert set(dados.keys()) == chaves_esperadas, \"Chaves não correspondentes\"\n",
    "\n",
    "    #Verificar se os tipos estão no formato correto\n",
    "    assert isinstance(dados['sensor_id'], str), \"sensor_id não é uma string\"\n",
    "    assert isinstance(dados['temperatura'], float), \"temperatura não é um float\"\n",
    "    assert isinstance(dados['umidade'], float), \"umidade não é um float\"\n",
    "    assert isinstance(dados['data_hora'], str), \"data_hora não é uma string\"\n",
    "    assert isinstance(dados['localizacao'], str), \"localizacao não é uma string\"\n",
    "\n",
    "    #Vericar se o intervalo esta o range de valores esperados\n",
    "    assert 12.00 <= dados['temperatura'] <= 40.00, \"temperatuta fora do intervalo esperado\"\n",
    "    assert 20.00 <= dados['umidade'] <= 80.00, \"umidade fora do intervalo esperado\"\n",
    "\n",
    "    print(\"Teste para gerar dados para o sensor foi bem-sucedido!!!\")\n",
    "\n",
    "test_gerar_dados_sensor()\n",
    "     "
   ]
  },
  {
   "cell_type": "code",
   "execution_count": 22,
   "metadata": {},
   "outputs": [
    {
     "name": "stdout",
     "output_type": "stream",
     "text": [
      "[INFO] Dados enviados para o 'sensores-iot': {'sensor_id': '4667b6eb-d471-4460-95ac-c6f51785a566', 'temperatura': 18.27, 'umidade': 46.38, 'data_hora': '2021-08-14T23:30:07', 'localizacao': 'Sampaio da Serra'}\n",
      "Teste enviar dados foi bem-sucedido!!!\n"
     ]
    }
   ],
   "source": [
    "def test_enviar_dados():\n",
    "    mock_producer = MagicMock()\n",
    "\n",
    "    f.enviar_dados(mock_producer, topico, dados)\n",
    "\n",
    "    #Aqui verifica se o método send foi chamado corretamente com os parametros certos\n",
    "    mock_producer.send.assert_called_once_with(topico, dados)\n",
    "\n",
    "    print(\"Teste enviar dados foi bem-sucedido!!!\")\n",
    "\n",
    "test_enviar_dados()"
   ]
  },
  {
   "cell_type": "code",
   "execution_count": null,
   "metadata": {},
   "outputs": [],
   "source": []
  },
  {
   "cell_type": "code",
   "execution_count": null,
   "metadata": {},
   "outputs": [],
   "source": [
    "# Loop de envio contínuo\n",
    "if __name__ == '__main__':\n",
    "    print(f\"[Producer] Enviando dados para o tópico '{TOPICO}'... Pressione Ctrl+C para parar.\")\n",
    "    try:\n",
    "        while True:\n",
    "            dado = gerar_dado_sensor()\n",
    "            print(f\"[Producer] Enviado: {dado}\")\n",
    "            producer.send(TOPICO, value=dado)\n",
    "            time.sleep(2)  # Envia a cada 2 segundos\n",
    "    except KeyboardInterrupt:\n",
    "        print(\"\\n[Producer] Encerrado pelo usuário.\")"
   ]
  }
 ],
 "metadata": {
  "kernelspec": {
   "display_name": "Python 3.13.2 64-bit",
   "language": "python",
   "name": "python3"
  },
  "language_info": {
   "codemirror_mode": {
    "name": "ipython",
    "version": 3
   },
   "file_extension": ".py",
   "mimetype": "text/x-python",
   "name": "python",
   "nbconvert_exporter": "python",
   "pygments_lexer": "ipython3",
   "version": "3.13.2"
  },
  "orig_nbformat": 4,
  "vscode": {
   "interpreter": {
    "hash": "bd832c2a2d1a62041cf5f134dd23d93f65838507dfcb26ff90fedb537c38ffe7"
   }
  }
 },
 "nbformat": 4,
 "nbformat_minor": 2
}
