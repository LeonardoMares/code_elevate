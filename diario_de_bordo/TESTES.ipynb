{
 "cells": [
  {
   "cell_type": "code",
   "execution_count": 0,
   "metadata": {
    "application/vnd.databricks.v1+cell": {
     "cellMetadata": {
      "byteLimit": 2048000,
      "rowLimit": 10000
     },
     "collapsed": true,
     "inputWidgets": {},
     "nuid": "9b3c996e-5b4b-411d-bca8-ee0fb2dfc991",
     "showTitle": false,
     "tableResultSettingsMap": {},
     "title": ""
    }
   },
   "outputs": [
    {
     "output_type": "stream",
     "name": "stdout",
     "output_type": "stream",
     "text": [
      "Python interpreter will be restarted.\nCollecting pytest\n  Downloading pytest-8.3.5-py3-none-any.whl (343 kB)\nCollecting exceptiongroup>=1.0.0rc8\n  Downloading exceptiongroup-1.3.0-py3-none-any.whl (16 kB)\nCollecting iniconfig\n  Downloading iniconfig-2.1.0-py3-none-any.whl (6.0 kB)\nRequirement already satisfied: packaging in /databricks/python3/lib/python3.9/site-packages (from pytest) (21.3)\nRequirement already satisfied: tomli>=1 in /databricks/python3/lib/python3.9/site-packages (from pytest) (1.2.2)\nCollecting pluggy<2,>=1.5\n  Downloading pluggy-1.6.0-py3-none-any.whl (20 kB)\nCollecting typing-extensions>=4.6.0\n  Downloading typing_extensions-4.13.2-py3-none-any.whl (45 kB)\nRequirement already satisfied: pyparsing!=3.0.5,>=2.0.2 in /databricks/python3/lib/python3.9/site-packages (from packaging->pytest) (3.0.4)\nInstalling collected packages: typing-extensions, pluggy, iniconfig, exceptiongroup, pytest\n  Attempting uninstall: typing-extensions\n    Found existing installation: typing-extensions 4.1.1\n    Not uninstalling typing-extensions at /databricks/python3/lib/python3.9/site-packages, outside environment /local_disk0/.ephemeral_nfs/envs/pythonEnv-e07fa9b1-08e8-495e-8590-c2baa992fb7c\n    Can't uninstall 'typing-extensions'. No files were found to uninstall.\n  Attempting uninstall: pluggy\n    Found existing installation: pluggy 1.0.0\n    Not uninstalling pluggy at /databricks/python3/lib/python3.9/site-packages, outside environment /local_disk0/.ephemeral_nfs/envs/pythonEnv-e07fa9b1-08e8-495e-8590-c2baa992fb7c\n    Can't uninstall 'pluggy'. No files were found to uninstall.\nSuccessfully installed exceptiongroup-1.3.0 iniconfig-2.1.0 pluggy-1.6.0 pytest-8.3.5 typing-extensions-4.13.2\nPython interpreter will be restarted.\n"
     ]
    }
   ],
   "source": [
    "pip install pytest"
   ]
  },
  {
   "cell_type": "markdown",
   "metadata": {
    "application/vnd.databricks.v1+cell": {
     "cellMetadata": {
      "byteLimit": 2048000,
      "rowLimit": 10000
     },
     "inputWidgets": {},
     "nuid": "4c3826fd-80a6-45e6-a3bc-11c3b9370412",
     "showTitle": false,
     "tableResultSettingsMap": {},
     "title": ""
    }
   },
   "source": [
    "###Ajustar nome das tabelas caso de erro, referente a existencia delas no diretório quando rodar os testes <br>\n",
    "De alguma forma o databricks olha para o diretório de uma forma como se existisse algum resquicio de informação, mesmo rodando o código que limpa o diretório"
   ]
  },
  {
   "cell_type": "code",
   "execution_count": 0,
   "metadata": {
    "application/vnd.databricks.v1+cell": {
     "cellMetadata": {
      "byteLimit": 2048000,
      "rowLimit": 10000
     },
     "inputWidgets": {},
     "nuid": "5ec361b7-dc28-438d-8340-70a72de6c767",
     "showTitle": true,
     "tableResultSettingsMap": {},
     "title": "funções"
    }
   },
   "outputs": [],
   "source": [
    "%run\n",
    "/Users/leonardomares1@gmail.com/CODE_ELEVATE/Diário_de_Bordo/UTILS"
   ]
  },
  {
   "cell_type": "code",
   "execution_count": 0,
   "metadata": {
    "application/vnd.databricks.v1+cell": {
     "cellMetadata": {
      "byteLimit": 2048000,
      "rowLimit": 10000
     },
     "inputWidgets": {},
     "nuid": "a32e8552-4bf9-4e5a-8fd9-e9b23a7bf100",
     "showTitle": true,
     "tableResultSettingsMap": {},
     "title": "parametros"
    }
   },
   "outputs": [],
   "source": [
    "import pytest\n",
    "from unittest.mock import patch"
   ]
  },
  {
   "cell_type": "code",
   "execution_count": 0,
   "metadata": {
    "application/vnd.databricks.v1+cell": {
     "cellMetadata": {
      "byteLimit": 2048000,
      "rowLimit": 10000
     },
     "collapsed": true,
     "inputWidgets": {},
     "nuid": "b12f7b24-c4a4-4e84-9039-19b36a3012d4",
     "showTitle": true,
     "tableResultSettingsMap": {},
     "title": "Teste download do csv ✅"
    }
   },
   "outputs": [
    {
     "output_type": "stream",
     "name": "stdout",
     "output_type": "stream",
     "text": [
      "✅ Arquivo baixado para /tmp/test.csv\n✅ Teste `test_download_csv_with_curl` concluído com sucesso!\n"
     ]
    }
   ],
   "source": [
    "def test_download_csv_with_curl():\n",
    "    \"\"\"Testa se a função chama o subprocess corretamente.\"\"\"\n",
    "    url = \"https://example.com/test.csv\"\n",
    "    local_path = \"/tmp/test.csv\"\n",
    "\n",
    "    #Aqui é feito o mock do subprocess para evitar uma chamada real ao cURL\n",
    "    with patch(\"subprocess.run\") as mock_run:\n",
    "        download_csv_with_curl(url, local_path)\n",
    "\n",
    "        # Verifica se subprocess.run foi chamado corretamente\n",
    "        mock_run.assert_called_once_with(['curl', '-L', url, '-o', local_path], check=True)\n",
    "\n",
    "    print(\"✅ Teste `test_download_csv_with_curl` concluído com sucesso!\")\n",
    "\n",
    "test_download_csv_with_curl()"
   ]
  },
  {
   "cell_type": "code",
   "execution_count": 0,
   "metadata": {
    "application/vnd.databricks.v1+cell": {
     "cellMetadata": {
      "byteLimit": 2048000,
      "rowLimit": 10000
     },
     "inputWidgets": {},
     "nuid": "de525bf7-263b-43a5-8b4d-f3c00b92192b",
     "showTitle": false,
     "tableResultSettingsMap": {},
     "title": ""
    }
   },
   "outputs": [
    {
     "output_type": "stream",
     "name": "stdout",
     "output_type": "stream",
     "text": [
      "Out[14]: True"
     ]
    }
   ],
   "source": [
    "#Vai apagar tudo dentro do diretório, para não ter o erro\n",
    "dbutils.fs.rm(\"dbfs:/user/hive/warehouse/teste\", recurse=True)"
   ]
  },
  {
   "cell_type": "code",
   "execution_count": 0,
   "metadata": {
    "application/vnd.databricks.v1+cell": {
     "cellMetadata": {
      "byteLimit": 2048000,
      "rowLimit": 10000
     },
     "inputWidgets": {},
     "nuid": "41acc257-afb4-4a48-86e0-cf9354e5e981",
     "showTitle": true,
     "tableResultSettingsMap": {},
     "title": "Teste csv to delta ✅"
    }
   },
   "outputs": [
    {
     "output_type": "stream",
     "name": "stdout",
     "output_type": "stream",
     "text": [
      "✅ Tabela Delta 'teste' criada com sucesso!\n✅ Teste salvar csv como delta foi bem sucedido!\n✅ Teste de schema foi bem sucedido!\n"
     ]
    }
   ],
   "source": [
    "nome_tbl = \"teste\"\n",
    "\n",
    "def test_salvar_csv_como_delta():\n",
    "    schema = StructType([\n",
    "        StructField(\"DATA_INICIO\", StringType(), True),\n",
    "        StructField(\"DATA_FIM\", StringType(), True),\n",
    "        StructField(\"CATEGORIA\", StringType(), True),\n",
    "        StructField(\"LOCAL_INICIO\", StringType(), True),\n",
    "        StructField(\"LOCAL_FIM\", StringType(), True),\n",
    "        StructField(\"PROPOSITO\", StringType(), True),\n",
    "        StructField(\"DISTANCIA\", DecimalType(10, 2), True)\n",
    "    ])\n",
    "    caminho_csv = \"/tmp/test.csv\"\n",
    "    delimitador = \",\"\n",
    "\n",
    "    #Exclui o csv do teste anterior, para roda esse teste\n",
    "    dbutils.fs.rm(\"dbfs:/tmp/test.csv\", recurse=True)\n",
    "\n",
    "    #Criando um CSV ficticio\n",
    "    df_test = spark.createDataFrame([\n",
    "    (\"05-01-2025 10:00\", \"05-01-2025 12:00\", \"negócios\", \"São Paulo\", \"Rio de Janeiro\", \"Reunião\", 432.5),\n",
    "    (\"05-01-2025 08:00\", \"05-01-2025 10:00\", \"pessoal\", \"São Paulo\", \"Campinas\", \"Visita à família\", 98.7),\n",
    "    (\"05-02-2025 15:30\", \"05-02-2025 17:30\", \"negócios\", \"Curitiba\", \"Florianópolis\", \"Reunião\", 300.2),\n",
    "    (\"05-02-2025 09:00\", \"05-02-2025 11:00\", \"pessoal\", \"Brasília\", \"Goiânia\", \"Passeio turístico\", 209.4),\n",
    "    (\"05-03-2025 13:00\", \"05-03-2025 15:00\", \"negócios\", \"Porto Alegre\", \"Blumenau\", \"Reunião\", 150.8),\n",
    "    (\"05-03-2025 07:30\", \"05-03-2025 09:30\", \"pessoal\", \"Recife\", \"João Pessoa\", \"Visita a amigos\", 120.6),\n",
    "    (\"05-04-2025 11:00\", \"05-04-2025 13:00\", \"negócios\", \"Salvador\", \"Aracaju\", \"Reunião\", 220.9),\n",
    "    (\"05-04-2025 14:30\", \"05-04-2025 16:30\", \"pessoal\", \"Belo Horizonte\", \"Ouro Preto\", None, 100.3),\n",
    "    (\"05-05-2025 16:00\", \"05-05-2025 18:00\", \"negócios\", \"Fortaleza\", \"Natal\", \"Reunião\", 410.7),\n",
    "    (\"05-05-2025 10:30\", \"05-05-2025 12:30\", \"pessoal\", \"Manaus\", \"Belém\", \"Viagem de lazer\", 530.1)],\n",
    "    [\"DATA_INICIO\", \"DATA_FIM\", \"CATEGORIA\", \"LOCAL_INICIO\", \"LOCAL_FIM\", \"PROPOSITO\", \"DISTANCIA\"])\n",
    "    df_test.write.option(\"header\", \"true\").mode(\"overwrite\").csv(caminho_csv)\n",
    "\n",
    "    df_resultado = salvar_csv_como_delta(schema, caminho_csv, nome_tbl, delimitador)\n",
    "    assert spark._jsparkSession.catalog().tableExists(nome_tbl), \"A Tabela não foi criada\"\n",
    "\n",
    "    print(\"✅ Teste salvar csv como delta foi bem sucedido!\")\n",
    "\n",
    "def test_salvar_csv_como_delta_schema():\n",
    "\n",
    "    df_resultado = spark.sql(f\"SELECT * FROM {nome_tbl}\")\n",
    "\n",
    "    assert df_resultado.count() > 0, \"A Tabela esta vazia\"\n",
    "\n",
    "    schema_esperado = [\"DATA_INICIO\", \"DATA_FIM\", \"CATEGORIA\", \"LOCAL_INICIO\", \"LOCAL_FIM\", \"PROPOSITO\", \"DISTANCIA\"]\n",
    "    schema_obtido = df_resultado.schema.names\n",
    "\n",
    "    assert schema_esperado == schema_obtido, (f\"Schemas não correspondem. Esperado: {schema_esperado} x Obtido: {schema_obtido}\")\n",
    "    \n",
    "    print(\"✅ Teste de schema foi bem sucedido!\")\n",
    "\n",
    "test_salvar_csv_como_delta()\n",
    "test_salvar_csv_como_delta_schema()"
   ]
  },
  {
   "cell_type": "code",
   "execution_count": 0,
   "metadata": {
    "application/vnd.databricks.v1+cell": {
     "cellMetadata": {
      "byteLimit": 2048000,
      "rowLimit": 10000
     },
     "inputWidgets": {},
     "nuid": "c34a1e04-5831-44ef-8b6c-cf539f228a51",
     "showTitle": false,
     "tableResultSettingsMap": {},
     "title": ""
    }
   },
   "outputs": [],
   "source": [
    "def test_ler_tabela_delta():\n",
    "\n",
    "    df = ler_tabela_delta(nome_tbl)\n",
    "\n",
    "    assert df_resultado is not None, \"O Dataframe é None\"\n",
    "\n",
    "    assert df_resultado is not None, \"O Dataframe é None\"\n",
    "    assert df.count() > 0, \"O Dataframe está vasio\"\n",
    "\n",
    "    print(\"Teste de leitura de tabela\")"
   ]
  },
  {
   "cell_type": "code",
   "execution_count": 0,
   "metadata": {
    "application/vnd.databricks.v1+cell": {
     "cellMetadata": {
      "byteLimit": 2048000,
      "rowLimit": 10000
     },
     "inputWidgets": {},
     "nuid": "a644703a-7fb8-42ec-9315-86e4636f0816",
     "showTitle": false,
     "tableResultSettingsMap": {},
     "title": ""
    }
   },
   "outputs": [],
   "source": [
    "#display(dbutils.fs.ls(\"dbfs:/user/hive/warehouse/tabela_teste\"))"
   ]
  },
  {
   "cell_type": "code",
   "execution_count": 0,
   "metadata": {
    "application/vnd.databricks.v1+cell": {
     "cellMetadata": {
      "byteLimit": 2048000,
      "rowLimit": 10000
     },
     "inputWidgets": {},
     "nuid": "7a5a33f5-8d3d-4c5c-865e-6dfe5e318524",
     "showTitle": false,
     "tableResultSettingsMap": {},
     "title": ""
    }
   },
   "outputs": [
    {
     "output_type": "stream",
     "name": "stdout",
     "output_type": "stream",
     "text": [
      "Out[18]: True"
     ]
    }
   ],
   "source": [
    "#Vai apagar tudo dentro do diretório, para não ter o erro\n",
    "dbutils.fs.rm(\"dbfs:/user/hive/warehouse/tabela_teste\", recurse=True)"
   ]
  },
  {
   "cell_type": "code",
   "execution_count": 0,
   "metadata": {
    "application/vnd.databricks.v1+cell": {
     "cellMetadata": {
      "byteLimit": 2048000,
      "rowLimit": 10000
     },
     "inputWidgets": {},
     "nuid": "dd6f100a-48ef-4def-8b07-3e83f4258c7f",
     "showTitle": true,
     "tableResultSettingsMap": {},
     "title": "Teste criar tablela ✅"
    }
   },
   "outputs": [
    {
     "output_type": "stream",
     "name": "stdout",
     "output_type": "stream",
     "text": [
      "✅ Tabela tabela_teste, criada com sucesso\n✅ Teste de criação concluido com sucesso!\n✅ Teste de colunas concluido com sucesso!\n"
     ]
    }
   ],
   "source": [
    "colunas = [\n",
    "    \"DT_REFE date\",\n",
    "    \"QT_CORR int\",\n",
    "    \"QT_CORR_NEG int\",\n",
    "    \"QT_CORR_PESS int\",\n",
    "    \"VL_MAX_DIST int\",\n",
    "    \"VL_MIN_DIST int\",\n",
    "    \"VL_AVG_DIST decimal (5,2)\",\n",
    "    \"QT_CORR_REUNI int\",\n",
    "    \"QT_CORR_NAO_REUNI int\"]\n",
    "nome_tbl = \"tabela_teste\"\n",
    "particao = \"DT_REFE\"\n",
    "\n",
    "\n",
    "def test_criar_tabela_calculada():\n",
    "    \n",
    "    df_resultado = criar_tabela_calculada(colunas, nome_tbl, particao)\n",
    "    assert df_resultado is not None, \"Erro: O Dataframe retornado é None!\"\n",
    "    \n",
    "    print(\"✅ Teste de criação concluido com sucesso!\")\n",
    "\n",
    "def test_criar_tabela_calculada_coluna():\n",
    "\n",
    "    df_test = spark.sql(f\"select * from {nome_tbl}\")\n",
    "\n",
    "    # Extrai apenas os nomes das colunas\n",
    "    colunas_esperadas = [col.split()[0] for col in colunas]\n",
    "   \n",
    "    assert set(df_test.columns) == set(colunas_esperadas), \"Colunas não correspondem as esperadas\"\n",
    "    # assert df_test.count() > 0, \"O Dataframe esta vasio!\"\n",
    "    print(\"✅ Teste de colunas concluido com sucesso!\")\n",
    "\n",
    "test_criar_tabela_calculada()\n",
    "test_criar_tabela_calculada_coluna()\n"
   ]
  },
  {
   "cell_type": "code",
   "execution_count": 0,
   "metadata": {
    "application/vnd.databricks.v1+cell": {
     "cellMetadata": {
      "byteLimit": 2048000,
      "rowLimit": 10000
     },
     "inputWidgets": {},
     "nuid": "1e1d34f3-d7b2-49a1-b019-a54a8476eb99",
     "showTitle": true,
     "tableResultSettingsMap": {},
     "title": "test tratar data ✅"
    }
   },
   "outputs": [
    {
     "output_type": "stream",
     "name": "stdout",
     "output_type": "stream",
     "text": [
      "✅ O Tratamento de data foi bem-sucedido!!!\n✅ O Teste tratar_data foi bem-sucedido!!!\n"
     ]
    }
   ],
   "source": [
    "def test_tratar_data():\n",
    "    colunas = [\n",
    "        \"*\",\n",
    "        \"CAST(TO_TIMESTAMP(DATA_INICIO, 'MM-dd-yyyy HH:mm') AS DATE) AS DT_REFE\"\n",
    "        ]\n",
    "    tempview = \"teste_data\"\n",
    "\n",
    "    df_resultado = tratar_data(colunas, \"teste\", tempview)\n",
    "    assert df_resultado is not None, \"Dataframe retornado é None!\"\n",
    "\n",
    "    df_test = spark.sql(f'select * from {tempview}')\n",
    "    assert df_test.count() > 0, \"df_test está vazio\"\n",
    "\n",
    "    colunas_esperadas = [\"DATA_INICIO\", \"DATA_FIM\", \"CATEGORIA\", \"LOCAL_INICIO\", \"LOCAL_FIM\", \"PROPOSITO\", \"DISTANCIA\", \"DT_REFE\"]\n",
    "    assert set(df_test.columns) == set(colunas_esperadas), \"As colunas não são correspondentes\"\n",
    "    \n",
    "\n",
    "    print(\"✅ O Teste tratar_data foi bem-sucedido!!!\")\n",
    "\n",
    "test_tratar_data()"
   ]
  },
  {
   "cell_type": "code",
   "execution_count": 0,
   "metadata": {
    "application/vnd.databricks.v1+cell": {
     "cellMetadata": {
      "byteLimit": 2048000,
      "implicitDf": true,
      "rowLimit": 10000
     },
     "inputWidgets": {},
     "nuid": "001eea41-7103-443a-9048-af17beb39c7f",
     "showTitle": true,
     "tableResultSettingsMap": {},
     "title": "select data tratada"
    }
   },
   "outputs": [
    {
     "output_type": "display_data",
     "data": {
      "text/html": [
       "<style scoped>\n",
       "  .table-result-container {\n",
       "    max-height: 300px;\n",
       "    overflow: auto;\n",
       "  }\n",
       "  table, th, td {\n",
       "    border: 1px solid black;\n",
       "    border-collapse: collapse;\n",
       "  }\n",
       "  th, td {\n",
       "    padding: 5px;\n",
       "  }\n",
       "  th {\n",
       "    text-align: left;\n",
       "  }\n",
       "</style><div class='table-result-container'><table class='table-result'><thead style='background-color: white'><tr><th>DATA_INICIO</th><th>DATA_FIM</th><th>CATEGORIA</th><th>LOCAL_INICIO</th><th>LOCAL_FIM</th><th>PROPOSITO</th><th>DISTANCIA</th><th>DT_REFE</th></tr></thead><tbody><tr><td>05-01-2025 08:00</td><td>05-01-2025 10:00</td><td>pessoal</td><td>São Paulo</td><td>Campinas</td><td>Visita à família</td><td>98.70</td><td>2025-05-01</td></tr><tr><td>05-01-2025 10:00</td><td>05-01-2025 12:00</td><td>negócios</td><td>São Paulo</td><td>Rio de Janeiro</td><td>Reunião</td><td>432.50</td><td>2025-05-01</td></tr><tr><td>05-03-2025 07:30</td><td>05-03-2025 09:30</td><td>pessoal</td><td>Recife</td><td>João Pessoa</td><td>Visita a amigos</td><td>120.60</td><td>2025-05-03</td></tr><tr><td>05-02-2025 15:30</td><td>05-02-2025 17:30</td><td>negócios</td><td>Curitiba</td><td>Florianópolis</td><td>Reunião</td><td>300.20</td><td>2025-05-02</td></tr><tr><td>05-04-2025 11:00</td><td>05-04-2025 13:00</td><td>negócios</td><td>Salvador</td><td>Aracaju</td><td>Reunião</td><td>220.90</td><td>2025-05-04</td></tr><tr><td>05-04-2025 14:30</td><td>05-04-2025 16:30</td><td>pessoal</td><td>Belo Horizonte</td><td>Ouro Preto</td><td>null</td><td>100.30</td><td>2025-05-04</td></tr><tr><td>05-02-2025 09:00</td><td>05-02-2025 11:00</td><td>pessoal</td><td>Brasília</td><td>Goiânia</td><td>Passeio turístico</td><td>209.40</td><td>2025-05-02</td></tr><tr><td>05-03-2025 13:00</td><td>05-03-2025 15:00</td><td>negócios</td><td>Porto Alegre</td><td>Blumenau</td><td>Reunião</td><td>150.80</td><td>2025-05-03</td></tr><tr><td>05-05-2025 16:00</td><td>05-05-2025 18:00</td><td>negócios</td><td>Fortaleza</td><td>Natal</td><td>Reunião</td><td>410.70</td><td>2025-05-05</td></tr><tr><td>05-05-2025 10:30</td><td>05-05-2025 12:30</td><td>pessoal</td><td>Manaus</td><td>Belém</td><td>Viagem de lazer</td><td>530.10</td><td>2025-05-05</td></tr></tbody></table></div>"
      ]
     },
     "metadata": {
      "application/vnd.databricks.v1+output": {
       "addedWidgets": {},
       "aggData": [],
       "aggError": "",
       "aggOverflow": false,
       "aggSchema": [],
       "aggSeriesLimitReached": false,
       "aggType": "",
       "arguments": {},
       "columnCustomDisplayInfos": {},
       "data": [
        [
         "05-01-2025 08:00",
         "05-01-2025 10:00",
         "pessoal",
         "São Paulo",
         "Campinas",
         "Visita à família",
         "98.70",
         "2025-05-01"
        ],
        [
         "05-01-2025 10:00",
         "05-01-2025 12:00",
         "negócios",
         "São Paulo",
         "Rio de Janeiro",
         "Reunião",
         "432.50",
         "2025-05-01"
        ],
        [
         "05-03-2025 07:30",
         "05-03-2025 09:30",
         "pessoal",
         "Recife",
         "João Pessoa",
         "Visita a amigos",
         "120.60",
         "2025-05-03"
        ],
        [
         "05-02-2025 15:30",
         "05-02-2025 17:30",
         "negócios",
         "Curitiba",
         "Florianópolis",
         "Reunião",
         "300.20",
         "2025-05-02"
        ],
        [
         "05-04-2025 11:00",
         "05-04-2025 13:00",
         "negócios",
         "Salvador",
         "Aracaju",
         "Reunião",
         "220.90",
         "2025-05-04"
        ],
        [
         "05-04-2025 14:30",
         "05-04-2025 16:30",
         "pessoal",
         "Belo Horizonte",
         "Ouro Preto",
         null,
         "100.30",
         "2025-05-04"
        ],
        [
         "05-02-2025 09:00",
         "05-02-2025 11:00",
         "pessoal",
         "Brasília",
         "Goiânia",
         "Passeio turístico",
         "209.40",
         "2025-05-02"
        ],
        [
         "05-03-2025 13:00",
         "05-03-2025 15:00",
         "negócios",
         "Porto Alegre",
         "Blumenau",
         "Reunião",
         "150.80",
         "2025-05-03"
        ],
        [
         "05-05-2025 16:00",
         "05-05-2025 18:00",
         "negócios",
         "Fortaleza",
         "Natal",
         "Reunião",
         "410.70",
         "2025-05-05"
        ],
        [
         "05-05-2025 10:30",
         "05-05-2025 12:30",
         "pessoal",
         "Manaus",
         "Belém",
         "Viagem de lazer",
         "530.10",
         "2025-05-05"
        ]
       ],
       "datasetInfos": [],
       "dbfsResultPath": null,
       "isJsonSchema": true,
       "metadata": {},
       "overflow": false,
       "plotOptions": {
        "customPlotOptions": {},
        "displayType": "table",
        "pivotAggregation": null,
        "pivotColumns": null,
        "xColumns": null,
        "yColumns": null
       },
       "removedWidgets": [],
       "schema": [
        {
         "metadata": "{}",
         "name": "DATA_INICIO",
         "type": "\"string\""
        },
        {
         "metadata": "{}",
         "name": "DATA_FIM",
         "type": "\"string\""
        },
        {
         "metadata": "{}",
         "name": "CATEGORIA",
         "type": "\"string\""
        },
        {
         "metadata": "{}",
         "name": "LOCAL_INICIO",
         "type": "\"string\""
        },
        {
         "metadata": "{}",
         "name": "LOCAL_FIM",
         "type": "\"string\""
        },
        {
         "metadata": "{}",
         "name": "PROPOSITO",
         "type": "\"string\""
        },
        {
         "metadata": "{}",
         "name": "DISTANCIA",
         "type": "\"decimal(10,2)\""
        },
        {
         "metadata": "{}",
         "name": "DT_REFE",
         "type": "\"date\""
        }
       ],
       "type": "table"
      }
     },
     "output_type": "display_data"
    }
   ],
   "source": [
    "%sql\n",
    "select * from teste_data"
   ]
  },
  {
   "cell_type": "code",
   "execution_count": 0,
   "metadata": {
    "application/vnd.databricks.v1+cell": {
     "cellMetadata": {
      "byteLimit": 2048000,
      "rowLimit": 10000
     },
     "inputWidgets": {},
     "nuid": "391ac016-d205-4edd-96b9-9dada1b63f7e",
     "showTitle": true,
     "tableResultSettingsMap": {},
     "title": "test count categoria ✅"
    }
   },
   "outputs": [
    {
     "output_type": "stream",
     "name": "stdout",
     "output_type": "stream",
     "text": [
      "✅ A contagem de categoria foi bem-sucedido!!!\n✅ O Teste count_categoria foi bem-sucedido!!!\n"
     ]
    }
   ],
   "source": [
    "def test_count_categoria():\n",
    "    filtro_tbl = \"group by DT_REFE, DISTANCIA, CATEGORIA\"\n",
    "    colunas = [\n",
    "        \"DT_REFE\",\n",
    "        \"DISTANCIA\",\n",
    "        \"1 as qtd\",\n",
    "        \"CASE WHEN CATEGORIA = 'negócios' THEN 1 ELSE 0 END AS qtd_neg\",\n",
    "        \"CASE WHEN CATEGORIA = 'pessoal' THEN 1 ELSE 0 END AS qtd_pes\"\n",
    "    ]\n",
    "    tempview = \"teste_categ\"\n",
    "\n",
    "    df_resultado = count_categoria(colunas, \"teste_data\", tempview, filtro_tbl)\n",
    "    assert df_resultado is not None, \"Dataframe retornado é None!\"\n",
    "\n",
    "    df_test = spark.sql(f'select * from {tempview}')\n",
    "    assert df_test.count() > 0, \"df_test está vazio\"\n",
    "\n",
    "    colunas_esperadas = [\"DT_REFE\", \"DISTANCIA\", \"qtd\", \"qtd_neg\", \"qtd_pes\"]\n",
    "    assert set(df_test.columns) == set(colunas_esperadas), \"As colunas não são correspondentes\"\n",
    "    \n",
    "\n",
    "    print(\"✅ O Teste count_categoria foi bem-sucedido!!!\")\n",
    "\n",
    "test_count_categoria()\n",
    "    "
   ]
  },
  {
   "cell_type": "code",
   "execution_count": 0,
   "metadata": {
    "application/vnd.databricks.v1+cell": {
     "cellMetadata": {
      "byteLimit": 2048000,
      "implicitDf": true,
      "rowLimit": 10000
     },
     "inputWidgets": {},
     "nuid": "c74c792b-e014-4833-aaf9-3898c3b3540a",
     "showTitle": true,
     "tableResultSettingsMap": {},
     "title": "select categoria"
    }
   },
   "outputs": [
    {
     "output_type": "display_data",
     "data": {
      "text/html": [
       "<style scoped>\n",
       "  .table-result-container {\n",
       "    max-height: 300px;\n",
       "    overflow: auto;\n",
       "  }\n",
       "  table, th, td {\n",
       "    border: 1px solid black;\n",
       "    border-collapse: collapse;\n",
       "  }\n",
       "  th, td {\n",
       "    padding: 5px;\n",
       "  }\n",
       "  th {\n",
       "    text-align: left;\n",
       "  }\n",
       "</style><div class='table-result-container'><table class='table-result'><thead style='background-color: white'><tr><th>DT_REFE</th><th>DISTANCIA</th><th>qtd</th><th>qtd_neg</th><th>qtd_pes</th></tr></thead><tbody><tr><td>2025-05-01</td><td>98.70</td><td>1</td><td>0</td><td>1</td></tr><tr><td>2025-05-01</td><td>432.50</td><td>1</td><td>1</td><td>0</td></tr><tr><td>2025-05-03</td><td>120.60</td><td>1</td><td>0</td><td>1</td></tr><tr><td>2025-05-02</td><td>300.20</td><td>1</td><td>1</td><td>0</td></tr><tr><td>2025-05-04</td><td>220.90</td><td>1</td><td>1</td><td>0</td></tr><tr><td>2025-05-04</td><td>100.30</td><td>1</td><td>0</td><td>1</td></tr><tr><td>2025-05-02</td><td>209.40</td><td>1</td><td>0</td><td>1</td></tr><tr><td>2025-05-03</td><td>150.80</td><td>1</td><td>1</td><td>0</td></tr><tr><td>2025-05-05</td><td>410.70</td><td>1</td><td>1</td><td>0</td></tr><tr><td>2025-05-05</td><td>530.10</td><td>1</td><td>0</td><td>1</td></tr></tbody></table></div>"
      ]
     },
     "metadata": {
      "application/vnd.databricks.v1+output": {
       "addedWidgets": {},
       "aggData": [],
       "aggError": "",
       "aggOverflow": false,
       "aggSchema": [],
       "aggSeriesLimitReached": false,
       "aggType": "",
       "arguments": {},
       "columnCustomDisplayInfos": {},
       "data": [
        [
         "2025-05-01",
         "98.70",
         1,
         0,
         1
        ],
        [
         "2025-05-01",
         "432.50",
         1,
         1,
         0
        ],
        [
         "2025-05-03",
         "120.60",
         1,
         0,
         1
        ],
        [
         "2025-05-02",
         "300.20",
         1,
         1,
         0
        ],
        [
         "2025-05-04",
         "220.90",
         1,
         1,
         0
        ],
        [
         "2025-05-04",
         "100.30",
         1,
         0,
         1
        ],
        [
         "2025-05-02",
         "209.40",
         1,
         0,
         1
        ],
        [
         "2025-05-03",
         "150.80",
         1,
         1,
         0
        ],
        [
         "2025-05-05",
         "410.70",
         1,
         1,
         0
        ],
        [
         "2025-05-05",
         "530.10",
         1,
         0,
         1
        ]
       ],
       "datasetInfos": [],
       "dbfsResultPath": null,
       "isJsonSchema": true,
       "metadata": {},
       "overflow": false,
       "plotOptions": {
        "customPlotOptions": {},
        "displayType": "table",
        "pivotAggregation": null,
        "pivotColumns": null,
        "xColumns": null,
        "yColumns": null
       },
       "removedWidgets": [],
       "schema": [
        {
         "metadata": "{}",
         "name": "DT_REFE",
         "type": "\"date\""
        },
        {
         "metadata": "{}",
         "name": "DISTANCIA",
         "type": "\"decimal(10,2)\""
        },
        {
         "metadata": "{}",
         "name": "qtd",
         "type": "\"integer\""
        },
        {
         "metadata": "{}",
         "name": "qtd_neg",
         "type": "\"integer\""
        },
        {
         "metadata": "{}",
         "name": "qtd_pes",
         "type": "\"integer\""
        }
       ],
       "type": "table"
      }
     },
     "output_type": "display_data"
    }
   ],
   "source": [
    "%sql\n",
    "select * from teste_categ"
   ]
  },
  {
   "cell_type": "code",
   "execution_count": 0,
   "metadata": {
    "application/vnd.databricks.v1+cell": {
     "cellMetadata": {
      "byteLimit": 2048000,
      "rowLimit": 10000
     },
     "inputWidgets": {},
     "nuid": "0783034a-e9e2-4e66-818b-a7f8f34f46b9",
     "showTitle": false,
     "tableResultSettingsMap": {},
     "title": ""
    }
   },
   "outputs": [
    {
     "output_type": "stream",
     "name": "stdout",
     "output_type": "stream",
     "text": [
      "✅ A contagem de categoria foi bem-sucedido!!!\n✅ O Teste count_categoria foi bem-sucedido!!!\n"
     ]
    }
   ],
   "source": [
    "filtro_tbl = \"group by DT_REFE\"\n",
    "def test_categoria_agregada():\n",
    "    tempview = \"test_categ_agreg\"\n",
    "    colunas = [\n",
    "        \"DT_REFE\",\n",
    "        \"sum(qtd) as QT_CORR\",\n",
    "        \"sum(qtd_neg) as QT_CORR_NEG\",\n",
    "        \"sum(qtd_pes) as QT_CORR_PESS\",\n",
    "        \"max(DISTANCIA) as VL_MAX_DIST\",\n",
    "        \"min(DISTANCIA) as VL_MIN_DIST\",\n",
    "        \"avg(DISTANCIA) as VL_AVG_DIST\"\n",
    "    ]\n",
    "\n",
    "    df_resultado = count_categoria(colunas, \"teste_categ\", tempview, filtro_tbl)\n",
    "    assert df_resultado is not None, \"Dataframe retornado é None!\"\n",
    "\n",
    "    df_test = spark.sql(f'select * from {tempview}')\n",
    "    assert df_test.count() > 0, \"df_test está vazio\"\n",
    "\n",
    "    colunas_esperadas = [\"DT_REFE\", \"QT_CORR\", \"QT_CORR_NEG\", \"QT_CORR_PESS\", \"VL_MAX_DIST\", \"VL_MIN_DIST\", \"VL_AVG_DIST\"]\n",
    "    assert set(df_test.columns) == set(colunas_esperadas), \"As colunas não são correspondentes\"\n",
    "    \n",
    "\n",
    "    print(\"✅ O Teste count_categoria foi bem-sucedido!!!\")\n",
    "\n",
    "test_categoria_agregada()\n"
   ]
  },
  {
   "cell_type": "code",
   "execution_count": 0,
   "metadata": {
    "application/vnd.databricks.v1+cell": {
     "cellMetadata": {
      "byteLimit": 2048000,
      "implicitDf": true,
      "rowLimit": 10000
     },
     "inputWidgets": {},
     "nuid": "713cace6-f56d-435e-98e8-5c3013ccc257",
     "showTitle": false,
     "tableResultSettingsMap": {},
     "title": ""
    }
   },
   "outputs": [
    {
     "output_type": "display_data",
     "data": {
      "text/html": [
       "<style scoped>\n",
       "  .table-result-container {\n",
       "    max-height: 300px;\n",
       "    overflow: auto;\n",
       "  }\n",
       "  table, th, td {\n",
       "    border: 1px solid black;\n",
       "    border-collapse: collapse;\n",
       "  }\n",
       "  th, td {\n",
       "    padding: 5px;\n",
       "  }\n",
       "  th {\n",
       "    text-align: left;\n",
       "  }\n",
       "</style><div class='table-result-container'><table class='table-result'><thead style='background-color: white'><tr><th>DT_REFE</th><th>QT_CORR</th><th>QT_CORR_NEG</th><th>QT_CORR_PESS</th><th>VL_MAX_DIST</th><th>VL_MIN_DIST</th><th>VL_AVG_DIST</th></tr></thead><tbody><tr><td>2025-05-02</td><td>2</td><td>1</td><td>1</td><td>300.20</td><td>209.40</td><td>254.800000</td></tr><tr><td>2025-05-04</td><td>2</td><td>1</td><td>1</td><td>220.90</td><td>100.30</td><td>160.600000</td></tr><tr><td>2025-05-03</td><td>2</td><td>1</td><td>1</td><td>150.80</td><td>120.60</td><td>135.700000</td></tr><tr><td>2025-05-05</td><td>2</td><td>1</td><td>1</td><td>530.10</td><td>410.70</td><td>470.400000</td></tr><tr><td>2025-05-01</td><td>2</td><td>1</td><td>1</td><td>432.50</td><td>98.70</td><td>265.600000</td></tr></tbody></table></div>"
      ]
     },
     "metadata": {
      "application/vnd.databricks.v1+output": {
       "addedWidgets": {},
       "aggData": [],
       "aggError": "",
       "aggOverflow": false,
       "aggSchema": [],
       "aggSeriesLimitReached": false,
       "aggType": "",
       "arguments": {},
       "columnCustomDisplayInfos": {},
       "data": [
        [
         "2025-05-02",
         2,
         1,
         1,
         "300.20",
         "209.40",
         "254.800000"
        ],
        [
         "2025-05-04",
         2,
         1,
         1,
         "220.90",
         "100.30",
         "160.600000"
        ],
        [
         "2025-05-03",
         2,
         1,
         1,
         "150.80",
         "120.60",
         "135.700000"
        ],
        [
         "2025-05-05",
         2,
         1,
         1,
         "530.10",
         "410.70",
         "470.400000"
        ],
        [
         "2025-05-01",
         2,
         1,
         1,
         "432.50",
         "98.70",
         "265.600000"
        ]
       ],
       "datasetInfos": [],
       "dbfsResultPath": null,
       "isJsonSchema": true,
       "metadata": {},
       "overflow": false,
       "plotOptions": {
        "customPlotOptions": {},
        "displayType": "table",
        "pivotAggregation": null,
        "pivotColumns": null,
        "xColumns": null,
        "yColumns": null
       },
       "removedWidgets": [],
       "schema": [
        {
         "metadata": "{}",
         "name": "DT_REFE",
         "type": "\"date\""
        },
        {
         "metadata": "{}",
         "name": "QT_CORR",
         "type": "\"long\""
        },
        {
         "metadata": "{}",
         "name": "QT_CORR_NEG",
         "type": "\"long\""
        },
        {
         "metadata": "{}",
         "name": "QT_CORR_PESS",
         "type": "\"long\""
        },
        {
         "metadata": "{}",
         "name": "VL_MAX_DIST",
         "type": "\"decimal(10,2)\""
        },
        {
         "metadata": "{}",
         "name": "VL_MIN_DIST",
         "type": "\"decimal(10,2)\""
        },
        {
         "metadata": "{}",
         "name": "VL_AVG_DIST",
         "type": "\"decimal(14,6)\""
        }
       ],
       "type": "table"
      }
     },
     "output_type": "display_data"
    }
   ],
   "source": [
    "%sql\n",
    "select * from test_categ_agreg"
   ]
  },
  {
   "cell_type": "code",
   "execution_count": 0,
   "metadata": {
    "application/vnd.databricks.v1+cell": {
     "cellMetadata": {
      "byteLimit": 2048000,
      "rowLimit": 10000
     },
     "inputWidgets": {},
     "nuid": "45200fb8-4289-40a2-82a4-235dc8402895",
     "showTitle": true,
     "tableResultSettingsMap": {},
     "title": "teste count proposito ✅"
    }
   },
   "outputs": [
    {
     "output_type": "stream",
     "name": "stdout",
     "output_type": "stream",
     "text": [
      "✅ A contagem de proposito foi bem-sucedido!!!\n✅ O Teste count_proposito foi bem-sucedido!!!\n"
     ]
    }
   ],
   "source": [
    "def test_count_proposito():\n",
    "    colunas = [\n",
    "        \"DT_REFE\",\n",
    "        \"sum(CASE WHEN PROPOSITO = 'Reunião' THEN 1 ELSE 0 END) AS QT_CORR_REUNI\",\n",
    "        \"sum(CASE WHEN PROPOSITO IS NOT NULL AND PROPOSITO <> 'Reunião' THEN 1 ELSE 0 END) AS QT_CORR_NAO_REUNI\"\n",
    "    ]\n",
    "    tempview = \"teste_prop\"\n",
    "\n",
    "    df_resultado = count_proposito(colunas, \"teste_data\", tempview, filtro_tbl)\n",
    "    assert df_resultado is not None, \"Dataframe retornado é None!\"\n",
    "\n",
    "    df_test = spark.sql(f'select * from {tempview}')\n",
    "    assert df_test.count() > 0, \"df_test está vazio\"\n",
    "\n",
    "    colunas_esperadas = [\"DT_REFE\", \"QT_CORR_REUNI\", \"QT_CORR_NAO_REUNI\"]\n",
    "    assert set(df_test.columns) == set(colunas_esperadas), \"As colunas não são correspondentes\"\n",
    "    \n",
    "\n",
    "    print(\"✅ O Teste count_proposito foi bem-sucedido!!!\")\n",
    "\n",
    "test_count_proposito()"
   ]
  },
  {
   "cell_type": "code",
   "execution_count": 0,
   "metadata": {
    "application/vnd.databricks.v1+cell": {
     "cellMetadata": {
      "byteLimit": 2048000,
      "implicitDf": true,
      "rowLimit": 10000
     },
     "inputWidgets": {},
     "nuid": "ca8aff5b-b8e8-431b-ad6d-1fe99066d3fc",
     "showTitle": true,
     "tableResultSettingsMap": {},
     "title": "select proposito"
    }
   },
   "outputs": [
    {
     "output_type": "display_data",
     "data": {
      "text/html": [
       "<style scoped>\n",
       "  .table-result-container {\n",
       "    max-height: 300px;\n",
       "    overflow: auto;\n",
       "  }\n",
       "  table, th, td {\n",
       "    border: 1px solid black;\n",
       "    border-collapse: collapse;\n",
       "  }\n",
       "  th, td {\n",
       "    padding: 5px;\n",
       "  }\n",
       "  th {\n",
       "    text-align: left;\n",
       "  }\n",
       "</style><div class='table-result-container'><table class='table-result'><thead style='background-color: white'><tr><th>DT_REFE</th><th>QT_CORR_REUNI</th><th>QT_CORR_NAO_REUNI</th></tr></thead><tbody><tr><td>2025-05-01</td><td>1</td><td>1</td></tr><tr><td>2025-05-03</td><td>1</td><td>1</td></tr><tr><td>2025-05-02</td><td>1</td><td>1</td></tr><tr><td>2025-05-04</td><td>1</td><td>0</td></tr><tr><td>2025-05-05</td><td>1</td><td>1</td></tr></tbody></table></div>"
      ]
     },
     "metadata": {
      "application/vnd.databricks.v1+output": {
       "addedWidgets": {},
       "aggData": [],
       "aggError": "",
       "aggOverflow": false,
       "aggSchema": [],
       "aggSeriesLimitReached": false,
       "aggType": "",
       "arguments": {},
       "columnCustomDisplayInfos": {},
       "data": [
        [
         "2025-05-01",
         1,
         1
        ],
        [
         "2025-05-03",
         1,
         1
        ],
        [
         "2025-05-02",
         1,
         1
        ],
        [
         "2025-05-04",
         1,
         0
        ],
        [
         "2025-05-05",
         1,
         1
        ]
       ],
       "datasetInfos": [],
       "dbfsResultPath": null,
       "isJsonSchema": true,
       "metadata": {},
       "overflow": false,
       "plotOptions": {
        "customPlotOptions": {},
        "displayType": "table",
        "pivotAggregation": null,
        "pivotColumns": null,
        "xColumns": null,
        "yColumns": null
       },
       "removedWidgets": [],
       "schema": [
        {
         "metadata": "{}",
         "name": "DT_REFE",
         "type": "\"date\""
        },
        {
         "metadata": "{}",
         "name": "QT_CORR_REUNI",
         "type": "\"long\""
        },
        {
         "metadata": "{}",
         "name": "QT_CORR_NAO_REUNI",
         "type": "\"long\""
        }
       ],
       "type": "table"
      }
     },
     "output_type": "display_data"
    }
   ],
   "source": [
    "%sql\n",
    "select * from teste_prop"
   ]
  },
  {
   "cell_type": "code",
   "execution_count": 0,
   "metadata": {
    "application/vnd.databricks.v1+cell": {
     "cellMetadata": {
      "byteLimit": 2048000,
      "rowLimit": 10000
     },
     "inputWidgets": {},
     "nuid": "067ed4ab-7e4f-4e0e-ba3b-52ee89bc3162",
     "showTitle": true,
     "tableResultSettingsMap": {},
     "title": "teste tatamento dados ✅"
    }
   },
   "outputs": [
    {
     "output_type": "stream",
     "name": "stdout",
     "output_type": "stream",
     "text": [
      "✅ O join das contagens foi bem-sucedido!!!\n✅ O Teste join_tabelas foi bem-sucedido!!!\n"
     ]
    }
   ],
   "source": [
    "def test_join_tabelas():\n",
    "    colunas = [\n",
    "        \"c.DT_REFE\",\n",
    "        \"c.QT_CORR\",\n",
    "        \"c.QT_CORR_NEG\",\n",
    "        \"c.QT_CORR_PESS\",\n",
    "        \"c.VL_MAX_DIST\",\n",
    "        \"c.VL_MIN_DIST\",\n",
    "        \"c.VL_AVG_DIST\",\n",
    "        \"p.QT_CORR_REUNI\",\n",
    "        \"p.QT_CORR_NAO_REUNI\"\n",
    "    ]\n",
    "    tbl_filtro = \"test_categ_agreg c\"\n",
    "    tbl_join = \"teste_prop p\"\n",
    "    on = \"c.DT_REFE = p.DT_REFE\"\n",
    "    filtro_tbl = \"\"\"\n",
    "    order by c.DT_REFE asc\n",
    "    \"\"\"\n",
    "    tempview = \"teste_tbl_final\"\n",
    "\n",
    "    df_resultado = join_tabelas(colunas, tbl_filtro, tbl_join, on, filtro_tbl, tempview)\n",
    "    assert df_resultado is not None, \"Dataframe retornado é None!\"\n",
    "    assert \"QT_CORR_REUNI\" in df_resultado.columns, \"A coluna QT_CORR_REUNI, não foi encontrada\"\n",
    "\n",
    "    df_test = spark.sql(f'select * from {tempview}')\n",
    "    assert df_test.count() > 0, \"df_test está vazio\"\n",
    "\n",
    "    assert df_resultado.count() == df_test.count(), \"A contangem não bate\"\n",
    "\n",
    "    print(\"✅ O Teste join_tabelas foi bem-sucedido!!!\")\n",
    "\n",
    "test_join_tabelas()"
   ]
  },
  {
   "cell_type": "code",
   "execution_count": 0,
   "metadata": {
    "application/vnd.databricks.v1+cell": {
     "cellMetadata": {
      "byteLimit": 2048000,
      "implicitDf": true,
      "rowLimit": 10000
     },
     "inputWidgets": {},
     "nuid": "188b430c-1b57-45f4-89ed-d3ff1b0a8f3b",
     "showTitle": true,
     "tableResultSettingsMap": {},
     "title": "select dados tratados"
    }
   },
   "outputs": [
    {
     "output_type": "display_data",
     "data": {
      "text/html": [
       "<style scoped>\n",
       "  .table-result-container {\n",
       "    max-height: 300px;\n",
       "    overflow: auto;\n",
       "  }\n",
       "  table, th, td {\n",
       "    border: 1px solid black;\n",
       "    border-collapse: collapse;\n",
       "  }\n",
       "  th, td {\n",
       "    padding: 5px;\n",
       "  }\n",
       "  th {\n",
       "    text-align: left;\n",
       "  }\n",
       "</style><div class='table-result-container'><table class='table-result'><thead style='background-color: white'><tr><th>DT_REFE</th><th>QT_CORR</th><th>QT_CORR_NEG</th><th>QT_CORR_PESS</th><th>VL_MAX_DIST</th><th>VL_MIN_DIST</th><th>VL_AVG_DIST</th><th>QT_CORR_REUNI</th><th>QT_CORR_NAO_REUNI</th></tr></thead><tbody><tr><td>2025-05-01</td><td>2</td><td>1</td><td>1</td><td>432.50</td><td>98.70</td><td>265.600000</td><td>1</td><td>1</td></tr><tr><td>2025-05-02</td><td>2</td><td>1</td><td>1</td><td>300.20</td><td>209.40</td><td>254.800000</td><td>1</td><td>1</td></tr><tr><td>2025-05-03</td><td>2</td><td>1</td><td>1</td><td>150.80</td><td>120.60</td><td>135.700000</td><td>1</td><td>1</td></tr><tr><td>2025-05-04</td><td>2</td><td>1</td><td>1</td><td>220.90</td><td>100.30</td><td>160.600000</td><td>1</td><td>0</td></tr><tr><td>2025-05-05</td><td>2</td><td>1</td><td>1</td><td>530.10</td><td>410.70</td><td>470.400000</td><td>1</td><td>1</td></tr></tbody></table></div>"
      ]
     },
     "metadata": {
      "application/vnd.databricks.v1+output": {
       "addedWidgets": {},
       "aggData": [],
       "aggError": "",
       "aggOverflow": false,
       "aggSchema": [],
       "aggSeriesLimitReached": false,
       "aggType": "",
       "arguments": {},
       "columnCustomDisplayInfos": {},
       "data": [
        [
         "2025-05-01",
         2,
         1,
         1,
         "432.50",
         "98.70",
         "265.600000",
         1,
         1
        ],
        [
         "2025-05-02",
         2,
         1,
         1,
         "300.20",
         "209.40",
         "254.800000",
         1,
         1
        ],
        [
         "2025-05-03",
         2,
         1,
         1,
         "150.80",
         "120.60",
         "135.700000",
         1,
         1
        ],
        [
         "2025-05-04",
         2,
         1,
         1,
         "220.90",
         "100.30",
         "160.600000",
         1,
         0
        ],
        [
         "2025-05-05",
         2,
         1,
         1,
         "530.10",
         "410.70",
         "470.400000",
         1,
         1
        ]
       ],
       "datasetInfos": [],
       "dbfsResultPath": null,
       "isJsonSchema": true,
       "metadata": {},
       "overflow": false,
       "plotOptions": {
        "customPlotOptions": {},
        "displayType": "table",
        "pivotAggregation": null,
        "pivotColumns": null,
        "xColumns": null,
        "yColumns": null
       },
       "removedWidgets": [],
       "schema": [
        {
         "metadata": "{}",
         "name": "DT_REFE",
         "type": "\"date\""
        },
        {
         "metadata": "{}",
         "name": "QT_CORR",
         "type": "\"long\""
        },
        {
         "metadata": "{}",
         "name": "QT_CORR_NEG",
         "type": "\"long\""
        },
        {
         "metadata": "{}",
         "name": "QT_CORR_PESS",
         "type": "\"long\""
        },
        {
         "metadata": "{}",
         "name": "VL_MAX_DIST",
         "type": "\"decimal(10,2)\""
        },
        {
         "metadata": "{}",
         "name": "VL_MIN_DIST",
         "type": "\"decimal(10,2)\""
        },
        {
         "metadata": "{}",
         "name": "VL_AVG_DIST",
         "type": "\"decimal(14,6)\""
        },
        {
         "metadata": "{}",
         "name": "QT_CORR_REUNI",
         "type": "\"long\""
        },
        {
         "metadata": "{}",
         "name": "QT_CORR_NAO_REUNI",
         "type": "\"long\""
        }
       ],
       "type": "table"
      }
     },
     "output_type": "display_data"
    }
   ],
   "source": [
    "%sql\n",
    "select * from teste_tbl_final"
   ]
  },
  {
   "cell_type": "code",
   "execution_count": 0,
   "metadata": {
    "application/vnd.databricks.v1+cell": {
     "cellMetadata": {
      "byteLimit": 2048000,
      "rowLimit": 10000
     },
     "inputWidgets": {},
     "nuid": "30c948c8-c2c5-470e-8246-9198a5ecf039",
     "showTitle": true,
     "tableResultSettingsMap": {},
     "title": "teste ingestão dados ✅"
    }
   },
   "outputs": [
    {
     "output_type": "stream",
     "name": "stdout",
     "output_type": "stream",
     "text": [
      "✅ A ingestão foi bem-sucedida!!!\n✅ O Teste ingestão de dados foi bem-sucedido!!!\n"
     ]
    }
   ],
   "source": [
    "def test_ingestao_dados():\n",
    "    tbl_calc = \"tabela_teste\"\n",
    "    tbl_join = \"teste_tbl_final\"\n",
    "\n",
    "    df_resultado = ingestao_dados(tbl_calc, tbl_join)\n",
    "    df_test = spark.sql(f\"select * from {tbl_join}\")\n",
    "\n",
    "    assert df_resultado.count() == df_test.count(), \"A contagem das tabelas não bate\"\n",
    "\n",
    "    print(\"✅ O Teste ingestão de dados foi bem-sucedido!!!\")\n",
    "\n",
    "test_ingestao_dados()"
   ]
  },
  {
   "cell_type": "code",
   "execution_count": 0,
   "metadata": {
    "application/vnd.databricks.v1+cell": {
     "cellMetadata": {
      "byteLimit": 2048000,
      "implicitDf": true,
      "rowLimit": 10000
     },
     "inputWidgets": {},
     "nuid": "56d5199c-7e01-4b97-a90c-c8d93f05d31f",
     "showTitle": true,
     "tableResultSettingsMap": {},
     "title": "select ingestão"
    }
   },
   "outputs": [
    {
     "output_type": "display_data",
     "data": {
      "text/html": [
       "<style scoped>\n",
       "  .table-result-container {\n",
       "    max-height: 300px;\n",
       "    overflow: auto;\n",
       "  }\n",
       "  table, th, td {\n",
       "    border: 1px solid black;\n",
       "    border-collapse: collapse;\n",
       "  }\n",
       "  th, td {\n",
       "    padding: 5px;\n",
       "  }\n",
       "  th {\n",
       "    text-align: left;\n",
       "  }\n",
       "</style><div class='table-result-container'><table class='table-result'><thead style='background-color: white'><tr><th>DT_REFE</th><th>QT_CORR</th><th>QT_CORR_NEG</th><th>QT_CORR_PESS</th><th>VL_MAX_DIST</th><th>VL_MIN_DIST</th><th>VL_AVG_DIST</th><th>QT_CORR_REUNI</th><th>QT_CORR_NAO_REUNI</th></tr></thead><tbody><tr><td>2025-05-05</td><td>2</td><td>1</td><td>1</td><td>530</td><td>410</td><td>470.40</td><td>1</td><td>1</td></tr><tr><td>2025-05-04</td><td>2</td><td>1</td><td>1</td><td>220</td><td>100</td><td>160.60</td><td>1</td><td>0</td></tr><tr><td>2025-05-03</td><td>2</td><td>1</td><td>1</td><td>150</td><td>120</td><td>135.70</td><td>1</td><td>1</td></tr><tr><td>2025-05-02</td><td>2</td><td>1</td><td>1</td><td>300</td><td>209</td><td>254.80</td><td>1</td><td>1</td></tr><tr><td>2025-05-01</td><td>2</td><td>1</td><td>1</td><td>432</td><td>98</td><td>265.60</td><td>1</td><td>1</td></tr></tbody></table></div>"
      ]
     },
     "metadata": {
      "application/vnd.databricks.v1+output": {
       "addedWidgets": {},
       "aggData": [],
       "aggError": "",
       "aggOverflow": false,
       "aggSchema": [],
       "aggSeriesLimitReached": false,
       "aggType": "",
       "arguments": {},
       "columnCustomDisplayInfos": {},
       "data": [
        [
         "2025-05-05",
         2,
         1,
         1,
         530,
         410,
         "470.40",
         1,
         1
        ],
        [
         "2025-05-04",
         2,
         1,
         1,
         220,
         100,
         "160.60",
         1,
         0
        ],
        [
         "2025-05-03",
         2,
         1,
         1,
         150,
         120,
         "135.70",
         1,
         1
        ],
        [
         "2025-05-02",
         2,
         1,
         1,
         300,
         209,
         "254.80",
         1,
         1
        ],
        [
         "2025-05-01",
         2,
         1,
         1,
         432,
         98,
         "265.60",
         1,
         1
        ]
       ],
       "datasetInfos": [],
       "dbfsResultPath": null,
       "isJsonSchema": true,
       "metadata": {},
       "overflow": false,
       "plotOptions": {
        "customPlotOptions": {},
        "displayType": "table",
        "pivotAggregation": null,
        "pivotColumns": null,
        "xColumns": null,
        "yColumns": null
       },
       "removedWidgets": [],
       "schema": [
        {
         "metadata": "{}",
         "name": "DT_REFE",
         "type": "\"date\""
        },
        {
         "metadata": "{}",
         "name": "QT_CORR",
         "type": "\"integer\""
        },
        {
         "metadata": "{}",
         "name": "QT_CORR_NEG",
         "type": "\"integer\""
        },
        {
         "metadata": "{}",
         "name": "QT_CORR_PESS",
         "type": "\"integer\""
        },
        {
         "metadata": "{}",
         "name": "VL_MAX_DIST",
         "type": "\"integer\""
        },
        {
         "metadata": "{}",
         "name": "VL_MIN_DIST",
         "type": "\"integer\""
        },
        {
         "metadata": "{}",
         "name": "VL_AVG_DIST",
         "type": "\"decimal(5,2)\""
        },
        {
         "metadata": "{}",
         "name": "QT_CORR_REUNI",
         "type": "\"integer\""
        },
        {
         "metadata": "{}",
         "name": "QT_CORR_NAO_REUNI",
         "type": "\"integer\""
        }
       ],
       "type": "table"
      }
     },
     "output_type": "display_data"
    }
   ],
   "source": [
    "%sql\n",
    "select * from tabela_teste"
   ]
  },
  {
   "cell_type": "markdown",
   "metadata": {
    "application/vnd.databricks.v1+cell": {
     "cellMetadata": {},
     "inputWidgets": {},
     "nuid": "6489861b-fce1-42e5-8cea-dd6f6d220be9",
     "showTitle": false,
     "tableResultSettingsMap": {},
     "title": ""
    }
   },
   "source": [
    "#Teste em SQL"
   ]
  },
  {
   "cell_type": "code",
   "execution_count": 0,
   "metadata": {
    "application/vnd.databricks.v1+cell": {
     "cellMetadata": {},
     "inputWidgets": {},
     "nuid": "b77b5f8f-15c4-45c5-b2f6-da525fb21a66",
     "showTitle": false,
     "tableResultSettingsMap": {},
     "title": ""
    }
   },
   "outputs": [
    {
     "output_type": "stream",
     "name": "stdout",
     "output_type": "stream",
     "text": [
      "Out[33]: True"
     ]
    }
   ],
   "source": [
    "dbutils.fs.rm(\"dbfs:/user/hive/warehouse/teste_sql\", recurse=True)"
   ]
  },
  {
   "cell_type": "code",
   "execution_count": 0,
   "metadata": {
    "application/vnd.databricks.v1+cell": {
     "cellMetadata": {},
     "inputWidgets": {},
     "nuid": "a999dd60-920f-4627-af04-afafb96ac6ed",
     "showTitle": false,
     "tableResultSettingsMap": {},
     "title": ""
    }
   },
   "outputs": [
    {
     "output_type": "stream",
     "name": "stdout",
     "output_type": "stream",
     "text": [
      "Out[34]: DataFrame[]"
     ]
    }
   ],
   "source": [
    "spark.sql(\n",
    "    f\"\"\"\n",
    "    CREATE OR REPLACE TABLE teste_sql (\n",
    "    DATA_INICIO STRING,\n",
    "    DATA_FIM STRING,\n",
    "    CATEGORIA STRING,\n",
    "    LOCAL_INICIO STRING,\n",
    "    LOCAL_FIM STRING,\n",
    "    PROPOSITO STRING,\n",
    "    DISTANCIA DECIMAL(10,2))\n",
    "    USING DELTA\n",
    "\"\"\")"
   ]
  },
  {
   "cell_type": "code",
   "execution_count": 0,
   "metadata": {
    "application/vnd.databricks.v1+cell": {
     "cellMetadata": {},
     "inputWidgets": {},
     "nuid": "b7445988-672a-4fe1-b4f3-1e36f5bea9a4",
     "showTitle": false,
     "tableResultSettingsMap": {},
     "title": ""
    }
   },
   "outputs": [
    {
     "output_type": "display_data",
     "data": {
      "text/html": [
       "<style scoped>\n",
       "  .table-result-container {\n",
       "    max-height: 300px;\n",
       "    overflow: auto;\n",
       "  }\n",
       "  table, th, td {\n",
       "    border: 1px solid black;\n",
       "    border-collapse: collapse;\n",
       "  }\n",
       "  th, td {\n",
       "    padding: 5px;\n",
       "  }\n",
       "  th {\n",
       "    text-align: left;\n",
       "  }\n",
       "</style><div class='table-result-container'><table class='table-result'><thead style='background-color: white'><tr><th>num_affected_rows</th><th>num_inserted_rows</th></tr></thead><tbody><tr><td>24</td><td>24</td></tr></tbody></table></div>"
      ]
     },
     "metadata": {
      "application/vnd.databricks.v1+output": {
       "addedWidgets": {},
       "aggData": [],
       "aggError": "",
       "aggOverflow": false,
       "aggSchema": [],
       "aggSeriesLimitReached": false,
       "aggType": "",
       "arguments": {},
       "columnCustomDisplayInfos": {},
       "data": [
        [
         24,
         24
        ]
       ],
       "datasetInfos": [],
       "dbfsResultPath": null,
       "isJsonSchema": true,
       "metadata": {},
       "overflow": false,
       "plotOptions": {
        "customPlotOptions": {},
        "displayType": "table",
        "pivotAggregation": null,
        "pivotColumns": null,
        "xColumns": null,
        "yColumns": null
       },
       "removedWidgets": [],
       "schema": [
        {
         "metadata": "{}",
         "name": "num_affected_rows",
         "type": "\"long\""
        },
        {
         "metadata": "{}",
         "name": "num_inserted_rows",
         "type": "\"long\""
        }
       ],
       "type": "table"
      }
     },
     "output_type": "display_data"
    }
   ],
   "source": [
    " %sql\n",
    "INSERT INTO teste_sql (DATA_INICIO, DATA_FIM, CATEGORIA, LOCAL_INICIO, LOCAL_FIM, PROPOSITO, DISTANCIA) VALUES\n",
    "('05-01-2025 10:00', '05-01-2025 12:00', 'negócios', 'São Paulo', 'Rio de Janeiro', 'Reunião', 432.5),\n",
    "('05-01-2025 08:00', '05-01-2025 10:00', 'pessoal', 'São Paulo', 'Campinas', 'Visita à família', 98.7),\n",
    "('05-02-2025 15:30', '05-02-2025 17:30', 'negócios', 'Curitiba', 'Florianópolis', 'Reunião', 300.2),\n",
    "('05-02-2025 09:00', '05-02-2025 11:00', 'pessoal', 'Brasília', 'Goiânia', 'Passeio turístico', 209.4),\n",
    "('05-03-2025 13:00', '05-03-2025 15:00', 'negócios', 'Porto Alegre', 'Blumenau', 'Reunião', 150.8),\n",
    "('05-03-2025 07:30', '05-03-2025 09:30', 'pessoal', 'Recife', 'João Pessoa', 'Visita a amigos', 120.6),\n",
    "('05-04-2025 11:00', '05-04-2025 13:00', 'negócios', 'Salvador', 'Aracaju', 'Reunião', 220.9),\n",
    "('05-04-2025 14:30', '05-04-2025 16:30', 'pessoal', 'Belo Horizonte', 'Ouro Preto', NULL, 100.3),\n",
    "('05-05-2025 16:00', '05-05-2025 18:00', 'negócios', 'Fortaleza', 'Natal', 'Reunião', 410.7),\n",
    "('05-05-2025 10:30', '05-05-2025 12:30', 'pessoal', 'Manaus', 'Belém', 'Viagem de lazer', 530.1),\n",
    "('05-06-2025 08:00', '05-06-2025 10:00', 'negócios', 'São Paulo', 'Brasília', 'Reunião', 850.6),\n",
    "('05-06-2025 18:00', '05-06-2025 20:00', 'pessoal', 'Curitiba', 'Joinville', NULL, 130.9),\n",
    "('05-07-2025 14:00', '05-07-2025 16:00', 'negócios', 'Vitória', 'Rio de Janeiro', 'Reunião', 400.5),\n",
    "('05-07-2025 12:00', '05-07-2025 14:00', 'pessoal', 'São Luís', 'Teresina', 'Evento cultural', 250.8),\n",
    "('05-08-2025 17:30', '05-08-2025 19:30', 'negócios', 'Belém', 'Macapá', 'Reunião', 320.2),\n",
    "('05-08-2025 09:30', '05-08-2025 11:30', 'pessoal', 'Campo Grande', 'Dourados', 'Encontro com amigos', 150.4),\n",
    "('05-09-2025 20:00', '05-09-2025 22:00', 'negócios', 'Florianópolis', 'Porto Alegre', 'Reunião', 470.7),\n",
    "('05-09-2025 07:00', '05-09-2025 09:00', 'pessoal', 'Natal', 'Recife', NULL, 300.9),\n",
    "('05-10-2025 11:30', '05-10-2025 13:30', 'negócios', 'Aracaju', 'Maceió', 'Reunião', 220.1),\n",
    "('05-10-2025 15:00', '05-10-2025 17:00', 'pessoal', 'Rio Branco', 'Porto Velho', 'Viagem de descanso', 350.4),\n",
    "('05-11-2025 08:30', '05-11-2025 10:30', 'negócios', 'João Pessoa', 'Natal', 'Reunião', 180.2),\n",
    "('05-11-2025 16:30', '05-11-2025 18:30', 'pessoal', 'Maceió', 'Salvador', 'Férias', 700.3),\n",
    "('05-12-2025 10:00', '05-12-2025 12:00', 'negócios', 'Brasília', 'São Paulo', 'Reunião', 870.5),\n",
    "('05-12-2025 13:30', '05-12-2025 15:30', 'pessoal', 'Porto Alegre', 'Curitiba', NULL, 450.6);"
   ]
  },
  {
   "cell_type": "code",
   "execution_count": 0,
   "metadata": {
    "application/vnd.databricks.v1+cell": {
     "cellMetadata": {},
     "inputWidgets": {},
     "nuid": "7fdfa142-7cbf-4d18-83f6-d24f8f7f51dc",
     "showTitle": false,
     "tableResultSettingsMap": {},
     "title": ""
    }
   },
   "outputs": [
    {
     "output_type": "stream",
     "name": "stdout",
     "output_type": "stream",
     "text": [
      "Out[36]: True"
     ]
    }
   ],
   "source": [
    "#Vai apagar tudo dentro do diretório, para não ter o erro \n",
    "dbutils.fs.rm(\"dbfs:/user/hive/warehouse/sql_final\", recurse=True)"
   ]
  },
  {
   "cell_type": "code",
   "execution_count": 0,
   "metadata": {
    "application/vnd.databricks.v1+cell": {
     "cellMetadata": {},
     "inputWidgets": {},
     "nuid": "5c4e5cda-ac4c-4e6a-b43a-5234abf740e0",
     "showTitle": false,
     "tableResultSettingsMap": {},
     "title": ""
    }
   },
   "outputs": [
    {
     "output_type": "stream",
     "name": "stdout",
     "output_type": "stream",
     "text": [
      "Out[37]: DataFrame[]"
     ]
    }
   ],
   "source": [
    "spark.sql(\n",
    "    f\"\"\"\n",
    "    create or replace table sql_final(\n",
    "        DT_REFE date,\n",
    "        QT_CORR int,\n",
    "        QT_CORR_NEG int,\n",
    "        QT_CORR_PESS int,\n",
    "        VL_MAX_DIST int,\n",
    "        VL_MIN_DIST int,\n",
    "        VL_AVG_DIST double,\n",
    "        QT_CORR_REUNI int,\n",
    "        QT_CORR_NAO_REUNI int\n",
    "\n",
    "    )\n",
    "\"\"\")"
   ]
  },
  {
   "cell_type": "code",
   "execution_count": 0,
   "metadata": {
    "application/vnd.databricks.v1+cell": {
     "cellMetadata": {},
     "inputWidgets": {},
     "nuid": "04a45b51-e022-4938-ae54-f33aae6273c2",
     "showTitle": false,
     "tableResultSettingsMap": {},
     "title": ""
    }
   },
   "outputs": [
    {
     "output_type": "display_data",
     "data": {
      "text/html": [
       "<style scoped>\n",
       "  .table-result-container {\n",
       "    max-height: 300px;\n",
       "    overflow: auto;\n",
       "  }\n",
       "  table, th, td {\n",
       "    border: 1px solid black;\n",
       "    border-collapse: collapse;\n",
       "  }\n",
       "  th, td {\n",
       "    padding: 5px;\n",
       "  }\n",
       "  th {\n",
       "    text-align: left;\n",
       "  }\n",
       "</style><div class='table-result-container'><table class='table-result'><thead style='background-color: white'><tr><th>num_affected_rows</th><th>num_inserted_rows</th></tr></thead><tbody><tr><td>287</td><td>287</td></tr></tbody></table></div>"
      ]
     },
     "metadata": {
      "application/vnd.databricks.v1+output": {
       "addedWidgets": {},
       "aggData": [],
       "aggError": "",
       "aggOverflow": false,
       "aggSchema": [],
       "aggSeriesLimitReached": false,
       "aggType": "",
       "arguments": {},
       "columnCustomDisplayInfos": {},
       "data": [
        [
         287,
         287
        ]
       ],
       "datasetInfos": [],
       "dbfsResultPath": null,
       "isJsonSchema": true,
       "metadata": {},
       "overflow": false,
       "plotOptions": {
        "customPlotOptions": {},
        "displayType": "table",
        "pivotAggregation": null,
        "pivotColumns": null,
        "xColumns": null,
        "yColumns": null
       },
       "removedWidgets": [],
       "schema": [
        {
         "metadata": "{}",
         "name": "num_affected_rows",
         "type": "\"long\""
        },
        {
         "metadata": "{}",
         "name": "num_inserted_rows",
         "type": "\"long\""
        }
       ],
       "type": "table"
      }
     },
     "output_type": "display_data"
    }
   ],
   "source": [
    "%sql\n",
    "insert into sql_final \n",
    "WITH contagem as\n",
    "(SELECT \n",
    "  CAST(TO_TIMESTAMP(DATA_INICIO, 'MM-dd-yyyy HH:mm') AS DATE) AS DT_REFE,\n",
    "  count(*) as qtd,\n",
    "  CASE WHEN CATEGORIA = 'Negocio' THEN COUNT(categoria) else 0 END AS  qt_corrida_negocio,\n",
    "  CASE WHEN CATEGORIA = 'Pessoal' THEN COUNT(categoria) else 0 END AS  qt_corrida_pessoal,\n",
    "  DISTANCIA,\n",
    "  CASE WHEN PROPOSITO = 'Reunião' then count(PROPOSITO) else 0 end as reuniao,\n",
    "  CASE WHEN PROPOSITO IS NOT NULL AND PROPOSITO <> 'Reunião' THEN count(PROPOSITO) else 0 END AS pessoal \n",
    "FROM info_transportes\n",
    "GROUP BY DATA_INICIO, CATEGORIA, DISTANCIA, PROPOSITO\n",
    "\n",
    "ORDER BY DATA_INICIO ASC)\n",
    "\n",
    "SELECT\n",
    "  dt_refe,\n",
    "  sum(qtd) as QT_CORR,\n",
    "  sum(qt_corrida_negocio) as QT_CORR_NEG,\n",
    "  sum(qt_corrida_pessoal) as QT_CORR_PESS,\n",
    "  max(DISTANCIA) as VL_MAX_DIST,\n",
    "  min(DISTANCIA) as VL_MIN_DIST,\n",
    "  avg(DISTANCIA) as VL_AVG_DIST,\n",
    "  sum(reuniao) as QT_CORR_REUNI,\n",
    "  sum(pessoal) as QT_CORR_NAO_REUNI\n",
    "  \n",
    "\n",
    "\n",
    "FROM contagem\n",
    "GROUP BY DT_REFE"
   ]
  },
  {
   "cell_type": "code",
   "execution_count": 0,
   "metadata": {
    "application/vnd.databricks.v1+cell": {
     "cellMetadata": {
      "byteLimit": 2048000,
      "implicitDf": true,
      "rowLimit": 10000
     },
     "inputWidgets": {},
     "nuid": "4368ec99-d8a4-45b6-8ff2-71761ee80893",
     "showTitle": false,
     "tableResultSettingsMap": {},
     "title": ""
    }
   },
   "outputs": [
    {
     "output_type": "display_data",
     "data": {
      "text/html": [
       "<style scoped>\n",
       "  .table-result-container {\n",
       "    max-height: 300px;\n",
       "    overflow: auto;\n",
       "  }\n",
       "  table, th, td {\n",
       "    border: 1px solid black;\n",
       "    border-collapse: collapse;\n",
       "  }\n",
       "  th, td {\n",
       "    padding: 5px;\n",
       "  }\n",
       "  th {\n",
       "    text-align: left;\n",
       "  }\n",
       "</style><div class='table-result-container'><table class='table-result'><thead style='background-color: white'><tr><th>DT_REFE</th><th>QT_CORR</th><th>QT_CORR_NEG</th><th>QT_CORR_PESS</th><th>VL_MAX_DIST</th><th>VL_MIN_DIST</th><th>VL_AVG_DIST</th><th>QT_CORR_REUNI</th><th>QT_CORR_NAO_REUNI</th></tr></thead><tbody><tr><td>2016-03-01</td><td>2</td><td>2</td><td>0</td><td>8</td><td>8</td><td>8.0</td><td>1</td><td>1</td></tr><tr><td>2016-10-03</td><td>4</td><td>4</td><td>0</td><td>127</td><td>16</td><td>69.0</td><td>0</td><td>0</td></tr><tr><td>2016-08-15</td><td>4</td><td>4</td><td>0</td><td>259</td><td>141</td><td>178.25</td><td>0</td><td>1</td></tr><tr><td>2016-05-03</td><td>1</td><td>1</td><td>0</td><td>25</td><td>25</td><td>25.0</td><td>0</td><td>1</td></tr><tr><td>2016-07-26</td><td>4</td><td>4</td><td>0</td><td>25</td><td>21</td><td>23.25</td><td>0</td><td>2</td></tr><tr><td>2016-01-28</td><td>3</td><td>3</td><td>0</td><td>157</td><td>19</td><td>107.66666666666667</td><td>2</td><td>1</td></tr><tr><td>2016-07-17</td><td>2</td><td>0</td><td>2</td><td>1802</td><td>151</td><td>976.5</td><td>0</td><td>2</td></tr><tr><td>2016-12-19</td><td>11</td><td>11</td><td>0</td><td>102</td><td>7</td><td>45.0</td><td>1</td><td>5</td></tr><tr><td>2016-11-08</td><td>4</td><td>4</td><td>0</td><td>122</td><td>3</td><td>68.5</td><td>1</td><td>1</td></tr><tr><td>2016-08-23</td><td>8</td><td>8</td><td>0</td><td>177</td><td>5</td><td>70.375</td><td>0</td><td>0</td></tr><tr><td>2016-07-03</td><td>3</td><td>3</td><td>0</td><td>99</td><td>31</td><td>53.666666666666664</td><td>1</td><td>2</td></tr><tr><td>2016-02-04</td><td>7</td><td>7</td><td>0</td><td>97</td><td>9</td><td>39.714285714285715</td><td>2</td><td>5</td></tr><tr><td>2016-01-13</td><td>4</td><td>4</td><td>0</td><td>219</td><td>39</td><td>122.0</td><td>2</td><td>2</td></tr><tr><td>2016-09-23</td><td>1</td><td>1</td><td>0</td><td>29</td><td>29</td><td>29.0</td><td>0</td><td>0</td></tr><tr><td>2016-04-22</td><td>4</td><td>4</td><td>0</td><td>225</td><td>10</td><td>118.75</td><td>4</td><td>0</td></tr><tr><td>2016-01-01</td><td>1</td><td>1</td><td>0</td><td>51</td><td>51</td><td>51.0</td><td>0</td><td>1</td></tr><tr><td>2016-09-30</td><td>2</td><td>2</td><td>0</td><td>377</td><td>167</td><td>272.0</td><td>0</td><td>0</td></tr><tr><td>2016-01-19</td><td>1</td><td>1</td><td>0</td><td>72</td><td>72</td><td>72.0</td><td>0</td><td>0</td></tr><tr><td>2016-07-19</td><td>5</td><td>4</td><td>1</td><td>87</td><td>3</td><td>48.2</td><td>1</td><td>3</td></tr><tr><td>2016-05-09</td><td>4</td><td>4</td><td>0</td><td>205</td><td>84</td><td>140.75</td><td>0</td><td>4</td></tr><tr><td>2016-09-15</td><td>1</td><td>1</td><td>0</td><td>9</td><td>9</td><td>9.0</td><td>0</td><td>0</td></tr><tr><td>2016-12-12</td><td>5</td><td>5</td><td>0</td><td>47</td><td>3</td><td>25.6</td><td>0</td><td>5</td></tr><tr><td>2016-10-07</td><td>7</td><td>7</td><td>0</td><td>332</td><td>24</td><td>87.85714285714286</td><td>0</td><td>0</td></tr><tr><td>2016-02-08</td><td>2</td><td>2</td><td>0</td><td>43</td><td>27</td><td>35.0</td><td>0</td><td>2</td></tr><tr><td>2016-05-23</td><td>2</td><td>2</td><td>0</td><td>36</td><td>36</td><td>36.0</td><td>0</td><td>2</td></tr><tr><td>2016-12-13</td><td>2</td><td>2</td><td>0</td><td>42</td><td>41</td><td>41.5</td><td>0</td><td>2</td></tr><tr><td>2016-03-25</td><td>3</td><td>3</td><td>0</td><td>3103</td><td>144</td><td>1149.3333333333333</td><td>1</td><td>2</td></tr><tr><td>2016-08-26</td><td>10</td><td>10</td><td>0</td><td>79</td><td>5</td><td>41.0</td><td>0</td><td>0</td></tr><tr><td>2016-08-01</td><td>8</td><td>8</td><td>0</td><td>91</td><td>13</td><td>51.125</td><td>0</td><td>0</td></tr><tr><td>2016-09-27</td><td>4</td><td>4</td><td>0</td><td>1956</td><td>58</td><td>546.25</td><td>0</td><td>0</td></tr><tr><td>2016-08-16</td><td>7</td><td>7</td><td>0</td><td>162</td><td>12</td><td>64.14285714285714</td><td>0</td><td>1</td></tr><tr><td>2016-10-23</td><td>4</td><td>4</td><td>0</td><td>282</td><td>31</td><td>156.25</td><td>0</td><td>2</td></tr><tr><td>2016-04-30</td><td>2</td><td>2</td><td>0</td><td>77</td><td>68</td><td>72.5</td><td>0</td><td>1</td></tr><tr><td>2016-07-21</td><td>4</td><td>4</td><td>0</td><td>37</td><td>23</td><td>29.0</td><td>0</td><td>0</td></tr><tr><td>2016-05-27</td><td>3</td><td>3</td><td>0</td><td>45</td><td>12</td><td>24.666666666666668</td><td>0</td><td>2</td></tr><tr><td>2016-07-02</td><td>2</td><td>2</td><td>0</td><td>101</td><td>99</td><td>100.0</td><td>2</td><td>0</td></tr><tr><td>2016-10-20</td><td>3</td><td>3</td><td>0</td><td>477</td><td>31</td><td>318.0</td><td>0</td><td>0</td></tr><tr><td>2016-08-06</td><td>2</td><td>2</td><td>0</td><td>66</td><td>8</td><td>37.0</td><td>0</td><td>0</td></tr><tr><td>2016-05-31</td><td>3</td><td>3</td><td>0</td><td>149</td><td>14</td><td>60.333333333333336</td><td>2</td><td>0</td></tr><tr><td>2016-08-05</td><td>3</td><td>3</td><td>0</td><td>18</td><td>13</td><td>15.333333333333334</td><td>0</td><td>0</td></tr><tr><td>2016-10-27</td><td>5</td><td>5</td><td>0</td><td>121</td><td>39</td><td>73.0</td><td>1</td><td>0</td></tr><tr><td>2016-10-24</td><td>3</td><td>3</td><td>0</td><td>164</td><td>22</td><td>113.33333333333333</td><td>0</td><td>0</td></tr><tr><td>2016-02-22</td><td>1</td><td>1</td><td>0</td><td>81</td><td>81</td><td>81.0</td><td>0</td><td>1</td></tr><tr><td>2016-03-22</td><td>3</td><td>1</td><td>2</td><td>81</td><td>14</td><td>39.333333333333336</td><td>0</td><td>1</td></tr><tr><td>2016-09-05</td><td>1</td><td>1</td><td>0</td><td>172</td><td>172</td><td>172.0</td><td>0</td><td>0</td></tr><tr><td>2016-12-15</td><td>1</td><td>1</td><td>0</td><td>106</td><td>106</td><td>106.0</td><td>1</td><td>0</td></tr><tr><td>2016-05-11</td><td>2</td><td>2</td><td>0</td><td>256</td><td>81</td><td>168.5</td><td>2</td><td>0</td></tr><tr><td>2016-11-25</td><td>2</td><td>2</td><td>0</td><td>111</td><td>103</td><td>107.0</td><td>2</td><td>0</td></tr><tr><td>2016-11-30</td><td>3</td><td>3</td><td>0</td><td>85</td><td>31</td><td>61.0</td><td>0</td><td>2</td></tr><tr><td>2016-05-28</td><td>3</td><td>3</td><td>0</td><td>113</td><td>47</td><td>73.66666666666667</td><td>0</td><td>3</td></tr><tr><td>2016-03-27</td><td>5</td><td>3</td><td>2</td><td>73</td><td>21</td><td>58.0</td><td>0</td><td>3</td></tr><tr><td>2016-03-11</td><td>5</td><td>5</td><td>0</td><td>21</td><td>1</td><td>8.8</td><td>0</td><td>1</td></tr><tr><td>2016-06-08</td><td>8</td><td>8</td><td>0</td><td>223</td><td>5</td><td>54.625</td><td>0</td><td>8</td></tr><tr><td>2016-11-19</td><td>6</td><td>6</td><td>0</td><td>105</td><td>15</td><td>58.166666666666664</td><td>2</td><td>2</td></tr><tr><td>2016-12-21</td><td>10</td><td>10</td><td>0</td><td>162</td><td>2</td><td>59.2</td><td>5</td><td>5</td></tr><tr><td>2016-12-20</td><td>8</td><td>8</td><td>0</td><td>194</td><td>12</td><td>56.0</td><td>1</td><td>6</td></tr><tr><td>2016-08-03</td><td>3</td><td>3</td><td>0</td><td>15</td><td>2</td><td>9.333333333333334</td><td>0</td><td>0</td></tr><tr><td>2016-07-31</td><td>1</td><td>1</td><td>0</td><td>18</td><td>18</td><td>18.0</td><td>0</td><td>0</td></tr><tr><td>2016-06-13</td><td>5</td><td>5</td><td>0</td><td>132</td><td>39</td><td>71.6</td><td>1</td><td>4</td></tr><tr><td>2016-12-22</td><td>9</td><td>9</td><td>0</td><td>323</td><td>14</td><td>103.88888888888889</td><td>4</td><td>5</td></tr><tr><td>2016-01-11</td><td>3</td><td>3</td><td>0</td><td>19</td><td>16</td><td>17.333333333333332</td><td>0</td><td>3</td></tr><tr><td>2016-08-12</td><td>2</td><td>2</td><td>0</td><td>19</td><td>18</td><td>18.5</td><td>0</td><td>0</td></tr><tr><td>2016-03-14</td><td>2</td><td>2</td><td>0</td><td>27</td><td>2</td><td>14.5</td><td>0</td><td>1</td></tr><tr><td>2016-04-16</td><td>2</td><td>2</td><td>0</td><td>61</td><td>6</td><td>33.5</td><td>0</td><td>2</td></tr><tr><td>2016-10-17</td><td>5</td><td>5</td><td>0</td><td>206</td><td>33</td><td>104.8</td><td>0</td><td>0</td></tr><tr><td>2016-08-19</td><td>7</td><td>7</td><td>0</td><td>125</td><td>2</td><td>55.714285714285715</td><td>0</td><td>0</td></tr><tr><td>2016-09-14</td><td>1</td><td>1</td><td>0</td><td>7</td><td>7</td><td>7.0</td><td>0</td><td>0</td></tr><tr><td>2016-06-29</td><td>6</td><td>6</td><td>0</td><td>104</td><td>16</td><td>64.0</td><td>2</td><td>0</td></tr><tr><td>2016-03-03</td><td>5</td><td>4</td><td>1</td><td>173</td><td>22</td><td>69.2</td><td>1</td><td>3</td></tr><tr><td>2016-01-05</td><td>1</td><td>1</td><td>0</td><td>47</td><td>47</td><td>47.0</td><td>1</td><td>0</td></tr><tr><td>2016-01-06</td><td>3</td><td>3</td><td>0</td><td>637</td><td>43</td><td>250.33333333333334</td><td>1</td><td>2</td></tr><tr><td>2016-06-27</td><td>11</td><td>11</td><td>0</td><td>469</td><td>1</td><td>79.63636363636364</td><td>0</td><td>0</td></tr><tr><td>2016-08-10</td><td>4</td><td>4</td><td>0</td><td>153</td><td>1</td><td>72.25</td><td>0</td><td>0</td></tr><tr><td>2016-04-29</td><td>4</td><td>4</td><td>0</td><td>182</td><td>10</td><td>108.25</td><td>3</td><td>1</td></tr><tr><td>2016-10-30</td><td>9</td><td>9</td><td>0</td><td>1959</td><td>63</td><td>433.55555555555554</td><td>0</td><td>0</td></tr><tr><td>2016-01-20</td><td>3</td><td>3</td><td>0</td><td>402</td><td>151</td><td>241.33333333333334</td><td>2</td><td>1</td></tr><tr><td>2016-05-05</td><td>3</td><td>3</td><td>0</td><td>142</td><td>29</td><td>100.0</td><td>1</td><td>2</td></tr><tr><td>2016-02-11</td><td>4</td><td>4</td><td>0</td><td>173</td><td>57</td><td>106.5</td><td>0</td><td>4</td></tr><tr><td>2016-10-06</td><td>4</td><td>4</td><td>0</td><td>1126</td><td>138</td><td>406.75</td><td>0</td><td>0</td></tr><tr><td>2016-04-19</td><td>2</td><td>2</td><td>0</td><td>82</td><td>8</td><td>45.0</td><td>0</td><td>2</td></tr><tr><td>2016-09-12</td><td>3</td><td>3</td><td>0</td><td>115</td><td>17</td><td>56.0</td><td>0</td><td>0</td></tr><tr><td>2016-02-09</td><td>6</td><td>2</td><td>4</td><td>61</td><td>3</td><td>40.666666666666664</td><td>0</td><td>1</td></tr><tr><td>2016-04-14</td><td>2</td><td>2</td><td>0</td><td>153</td><td>137</td><td>145.0</td><td>0</td><td>2</td></tr><tr><td>2016-01-29</td><td>6</td><td>6</td><td>0</td><td>104</td><td>46</td><td>69.33333333333333</td><td>3</td><td>3</td></tr><tr><td>2016-01-26</td><td>5</td><td>5</td><td>0</td><td>23</td><td>2</td><td>12.6</td><td>0</td><td>5</td></tr><tr><td>2016-11-15</td><td>3</td><td>3</td><td>0</td><td>118</td><td>51</td><td>88.66666666666667</td><td>0</td><td>2</td></tr><tr><td>2016-08-13</td><td>1</td><td>1</td><td>0</td><td>84</td><td>84</td><td>84.0</td><td>1</td><td>0</td></tr><tr><td>2016-09-18</td><td>1</td><td>1</td><td>0</td><td>94</td><td>94</td><td>94.0</td><td>0</td><td>0</td></tr><tr><td>2016-12-03</td><td>3</td><td>3</td><td>0</td><td>66</td><td>3</td><td>29.0</td><td>0</td><td>2</td></tr><tr><td>2016-07-13</td><td>3</td><td>0</td><td>3</td><td>235</td><td>22</td><td>100.33333333333333</td><td>0</td><td>0</td></tr><tr><td>2016-03-20</td><td>5</td><td>4</td><td>1</td><td>104</td><td>12</td><td>66.6</td><td>2</td><td>1</td></tr><tr><td>2016-10-21</td><td>1</td><td>1</td><td>0</td><td>132</td><td>132</td><td>132.0</td><td>0</td><td>0</td></tr><tr><td>2016-09-01</td><td>3</td><td>3</td><td>0</td><td>106</td><td>13</td><td>47.0</td><td>0</td><td>0</td></tr><tr><td>2016-04-08</td><td>5</td><td>5</td><td>0</td><td>191</td><td>18</td><td>117.4</td><td>3</td><td>2</td></tr><tr><td>2016-03-16</td><td>3</td><td>3</td><td>0</td><td>21</td><td>2</td><td>13.333333333333334</td><td>0</td><td>2</td></tr><tr><td>2016-02-25</td><td>4</td><td>4</td><td>0</td><td>58</td><td>6</td><td>31.75</td><td>0</td><td>4</td></tr><tr><td>2016-12-25</td><td>3</td><td>3</td><td>0</td><td>23</td><td>6</td><td>17.333333333333332</td><td>0</td><td>3</td></tr><tr><td>2016-12-31</td><td>5</td><td>5</td><td>0</td><td>482</td><td>7</td><td>150.8</td><td>2</td><td>3</td></tr><tr><td>2016-11-21</td><td>5</td><td>5</td><td>0</td><td>67</td><td>21</td><td>36.4</td><td>0</td><td>5</td></tr><tr><td>2016-03-19</td><td>9</td><td>9</td><td>0</td><td>365</td><td>12</td><td>113.11111111111111</td><td>1</td><td>7</td></tr><tr><td>2016-08-30</td><td>5</td><td>5</td><td>0</td><td>88</td><td>13</td><td>43.8</td><td>0</td><td>0</td></tr><tr><td>2016-10-29</td><td>2</td><td>2</td><td>0</td><td>757</td><td>407</td><td>582.0</td><td>1</td><td>0</td></tr><tr><td>2016-08-07</td><td>4</td><td>4</td><td>0</td><td>27</td><td>25</td><td>26.0</td><td>0</td><td>2</td></tr><tr><td>2016-11-06</td><td>5</td><td>5</td><td>0</td><td>439</td><td>18</td><td>108.4</td><td>1</td><td>1</td></tr><tr><td>2016-04-02</td><td>6</td><td>4</td><td>2</td><td>1742</td><td>51</td><td>595.0</td><td>1</td><td>3</td></tr><tr><td>2016-10-26</td><td>2</td><td>2</td><td>0</td><td>21</td><td>21</td><td>21.0</td><td>1</td><td>0</td></tr><tr><td>2016-03-31</td><td>2</td><td>2</td><td>0</td><td>164</td><td>161</td><td>162.5</td><td>0</td><td>2</td></tr><tr><td>2016-09-02</td><td>2</td><td>2</td><td>0</td><td>129</td><td>92</td><td>110.5</td><td>0</td><td>0</td></tr><tr><td>2016-07-16</td><td>6</td><td>1</td><td>5</td><td>419</td><td>13</td><td>172.16666666666666</td><td>0</td><td>1</td></tr><tr><td>2016-07-10</td><td>4</td><td>4</td><td>0</td><td>136</td><td>13</td><td>75.25</td><td>0</td><td>0</td></tr><tr><td>2016-02-18</td><td>5</td><td>5</td><td>0</td><td>235</td><td>6</td><td>86.0</td><td>1</td><td>4</td></tr><tr><td>2016-12-30</td><td>5</td><td>5</td><td>0</td><td>46</td><td>8</td><td>31.4</td><td>1</td><td>4</td></tr><tr><td>2016-12-17</td><td>2</td><td>2</td><td>0</td><td>53</td><td>48</td><td>50.5</td><td>0</td><td>2</td></tr><tr><td>2016-12-02</td><td>4</td><td>4</td><td>0</td><td>53</td><td>3</td><td>35.0</td><td>0</td><td>4</td></tr><tr><td>2016-02-28</td><td>2</td><td>2</td><td>0</td><td>77</td><td>68</td><td>72.5</td><td>2</td><td>0</td></tr><tr><td>2016-08-27</td><td>5</td><td>5</td><td>0</td><td>1569</td><td>7</td><td>509.4</td><td>0</td><td>0</td></tr><tr><td>2016-10-09</td><td>1</td><td>1</td><td>0</td><td>77</td><td>77</td><td>77.0</td><td>0</td><td>1</td></tr><tr><td>2016-05-01</td><td>5</td><td>5</td><td>0</td><td>75</td><td>21</td><td>42.4</td><td>1</td><td>3</td></tr><tr><td>2016-08-18</td><td>1</td><td>1</td><td>0</td><td>76</td><td>76</td><td>76.0</td><td>0</td><td>1</td></tr><tr><td>2016-12-18</td><td>3</td><td>3</td><td>0</td><td>102</td><td>49</td><td>81.0</td><td>0</td><td>2</td></tr><tr><td>2016-11-07</td><td>2</td><td>2</td><td>0</td><td>132</td><td>118</td><td>125.0</td><td>0</td><td>2</td></tr><tr><td>2016-02-12</td><td>6</td><td>6</td><td>0</td><td>115</td><td>17</td><td>57.5</td><td>2</td><td>4</td></tr><tr><td>2016-09-16</td><td>1</td><td>1</td><td>0</td><td>16</td><td>16</td><td>16.0</td><td>0</td><td>0</td></tr><tr><td>2016-11-04</td><td>4</td><td>4</td><td>0</td><td>79</td><td>38</td><td>49.75</td><td>0</td><td>1</td></tr><tr><td>2016-12-29</td><td>13</td><td>13</td><td>0</td><td>129</td><td>3</td><td>55.53846153846154</td><td>2</td><td>10</td></tr><tr><td>2016-12-27</td><td>6</td><td>6</td><td>0</td><td>79</td><td>5</td><td>37.5</td><td>1</td><td>5</td></tr><tr><td>2016-06-05</td><td>6</td><td>6</td><td>0</td><td>99</td><td>25</td><td>69.5</td><td>2</td><td>4</td></tr><tr><td>2016-12-05</td><td>2</td><td>2</td><td>0</td><td>41</td><td>38</td><td>39.5</td><td>0</td><td>1</td></tr><tr><td>2016-09-13</td><td>1</td><td>1</td><td>0</td><td>7</td><td>7</td><td>7.0</td><td>0</td><td>0</td></tr><tr><td>2016-10-14</td><td>4</td><td>4</td><td>0</td><td>127</td><td>17</td><td>76.5</td><td>1</td><td>0</td></tr><tr><td>2016-08-22</td><td>10</td><td>10</td><td>0</td><td>187</td><td>15</td><td>67.9</td><td>0</td><td>0</td></tr><tr><td>2016-08-21</td><td>5</td><td>5</td><td>0</td><td>202</td><td>14</td><td>98.2</td><td>0</td><td>1</td></tr><tr><td>2016-07-29</td><td>2</td><td>2</td><td>0</td><td>22</td><td>22</td><td>22.0</td><td>0</td><td>1</td></tr><tr><td>2016-09-24</td><td>2</td><td>2</td><td>0</td><td>82</td><td>24</td><td>53.0</td><td>0</td><td>0</td></tr><tr><td>2016-05-02</td><td>2</td><td>2</td><td>0</td><td>39</td><td>22</td><td>30.5</td><td>0</td><td>2</td></tr><tr><td>2016-07-08</td><td>4</td><td>4</td><td>0</td><td>132</td><td>7</td><td>85.25</td><td>0</td><td>0</td></tr><tr><td>2016-08-29</td><td>8</td><td>8</td><td>0</td><td>108</td><td>4</td><td>43.25</td><td>0</td><td>1</td></tr><tr><td>2016-02-29</td><td>5</td><td>4</td><td>1</td><td>66</td><td>21</td><td>41.4</td><td>2</td><td>1</td></tr><tr><td>2016-07-04</td><td>4</td><td>4</td><td>0</td><td>118</td><td>87</td><td>98.0</td><td>3</td><td>1</td></tr><tr><td>2016-10-11</td><td>1</td><td>1</td><td>0</td><td>171</td><td>171</td><td>171.0</td><td>1</td><td>0</td></tr><tr><td>2016-03-24</td><td>2</td><td>1</td><td>1</td><td>22</td><td>2</td><td>12.0</td><td>0</td><td>0</td></tr><tr><td>2016-11-23</td><td>4</td><td>4</td><td>0</td><td>59</td><td>13</td><td>31.0</td><td>0</td><td>1</td></tr><tr><td>2016-07-12</td><td>3</td><td>1</td><td>2</td><td>123</td><td>14</td><td>74.66666666666667</td><td>0</td><td>0</td></tr><tr><td>2016-12-11</td><td>3</td><td>3</td><td>0</td><td>48</td><td>3</td><td>24.0</td><td>0</td><td>3</td></tr><tr><td>2016-07-30</td><td>2</td><td>2</td><td>0</td><td>133</td><td>14</td><td>73.5</td><td>0</td><td>0</td></tr><tr><td>2016-01-21</td><td>3</td><td>3</td><td>0</td><td>24</td><td>1</td><td>13.666666666666666</td><td>0</td><td>3</td></tr><tr><td>2016-03-04</td><td>10</td><td>10</td><td>0</td><td>157</td><td>2</td><td>78.1</td><td>4</td><td>6</td></tr><tr><td>2016-08-08</td><td>5</td><td>5</td><td>0</td><td>52</td><td>4</td><td>32.6</td><td>0</td><td>2</td></tr><tr><td>2016-01-27</td><td>5</td><td>5</td><td>0</td><td>187</td><td>18</td><td>79.0</td><td>1</td><td>4</td></tr><tr><td>2016-11-18</td><td>3</td><td>3</td><td>0</td><td>61</td><td>31</td><td>48.0</td><td>1</td><td>2</td></tr><tr><td>2016-11-01</td><td>6</td><td>6</td><td>0</td><td>165</td><td>1</td><td>64.83333333333333</td><td>0</td><td>1</td></tr><tr><td>2016-07-14</td><td>3</td><td>2</td><td>1</td><td>1953</td><td>33</td><td>701.3333333333334</td><td>0</td><td>1</td></tr><tr><td>2016-04-01</td><td>4</td><td>3</td><td>1</td><td>203</td><td>7</td><td>94.0</td><td>2</td><td>1</td></tr><tr><td>2016-08-09</td><td>3</td><td>3</td><td>0</td><td>174</td><td>69</td><td>130.66666666666666</td><td>0</td><td>0</td></tr><tr><td>2016-05-15</td><td>5</td><td>4</td><td>1</td><td>124</td><td>15</td><td>55.4</td><td>0</td><td>4</td></tr><tr><td>2016-06-10</td><td>3</td><td>3</td><td>0</td><td>163</td><td>99</td><td>122.0</td><td>3</td><td>0</td></tr><tr><td>2016-10-12</td><td>1</td><td>1</td><td>0</td><td>184</td><td>184</td><td>184.0</td><td>0</td><td>0</td></tr><tr><td>2016-03-21</td><td>4</td><td>3</td><td>1</td><td>256</td><td>1</td><td>88.5</td><td>0</td><td>2</td></tr><tr><td>2016-02-19</td><td>10</td><td>6</td><td>4</td><td>183</td><td>1</td><td>69.8</td><td>3</td><td>1</td></tr><tr><td>2016-04-07</td><td>2</td><td>2</td><td>0</td><td>61</td><td>61</td><td>61.0</td><td>0</td><td>2</td></tr><tr><td>2016-02-21</td><td>11</td><td>11</td><td>0</td><td>227</td><td>13</td><td>76.9090909090909</td><td>1</td><td>8</td></tr><tr><td>2016-03-26</td><td>3</td><td>0</td><td>3</td><td>88</td><td>12</td><td>55.666666666666664</td><td>0</td><td>0</td></tr><tr><td>2016-05-16</td><td>5</td><td>5</td><td>0</td><td>145</td><td>15</td><td>90.4</td><td>0</td><td>0</td></tr><tr><td>2016-11-17</td><td>1</td><td>1</td><td>0</td><td>163</td><td>163</td><td>163.0</td><td>0</td><td>1</td></tr><tr><td>2016-10-16</td><td>7</td><td>7</td><td>0</td><td>105</td><td>21</td><td>48.142857142857146</td><td>2</td><td>1</td></tr><tr><td>2016-05-14</td><td>6</td><td>6</td><td>0</td><td>116</td><td>31</td><td>70.0</td><td>2</td><td>3</td></tr><tr><td>2016-10-22</td><td>3</td><td>3</td><td>0</td><td>172</td><td>14</td><td>91.0</td><td>0</td><td>0</td></tr><tr><td>2016-12-04</td><td>2</td><td>2</td><td>0</td><td>34</td><td>29</td><td>31.5</td><td>0</td><td>2</td></tr><tr><td>2016-08-02</td><td>4</td><td>4</td><td>0</td><td>84</td><td>1</td><td>33.75</td><td>1</td><td>0</td></tr><tr><td>2016-04-12</td><td>5</td><td>5</td><td>0</td><td>159</td><td>28</td><td>83.2</td><td>2</td><td>3</td></tr><tr><td>2016-07-27</td><td>3</td><td>3</td><td>0</td><td>147</td><td>28</td><td>107.0</td><td>0</td><td>0</td></tr><tr><td>2016-02-13</td><td>7</td><td>5</td><td>2</td><td>139</td><td>2</td><td>52.714285714285715</td><td>5</td><td>0</td></tr><tr><td>2016-05-10</td><td>2</td><td>2</td><td>0</td><td>93</td><td>79</td><td>86.0</td><td>0</td><td>2</td></tr><tr><td>2016-02-26</td><td>7</td><td>3</td><td>4</td><td>106</td><td>2</td><td>49.714285714285715</td><td>2</td><td>0</td></tr><tr><td>2016-05-17</td><td>4</td><td>4</td><td>0</td><td>122</td><td>19</td><td>49.0</td><td>0</td><td>3</td></tr><tr><td>2016-11-27</td><td>2</td><td>2</td><td>0</td><td>33</td><td>29</td><td>31.0</td><td>0</td><td>1</td></tr><tr><td>2016-10-13</td><td>5</td><td>5</td><td>0</td><td>109</td><td>1</td><td>47.6</td><td>0</td><td>0</td></tr><tr><td>2016-04-03</td><td>1</td><td>1</td><td>0</td><td>1593</td><td>1593</td><td>1593.0</td><td>1</td><td>0</td></tr><tr><td>2016-02-02</td><td>3</td><td>3</td><td>0</td><td>83</td><td>6</td><td>35.0</td><td>1</td><td>2</td></tr><tr><td>2016-11-26</td><td>5</td><td>5</td><td>0</td><td>133</td><td>9</td><td>46.4</td><td>2</td><td>2</td></tr><tr><td>2016-03-10</td><td>4</td><td>4</td><td>0</td><td>128</td><td>16</td><td>62.75</td><td>2</td><td>0</td></tr><tr><td>2016-12-14</td><td>4</td><td>4</td><td>0</td><td>34</td><td>3</td><td>25.25</td><td>0</td><td>2</td></tr><tr><td>2016-11-02</td><td>5</td><td>5</td><td>0</td><td>85</td><td>5</td><td>32.0</td><td>1</td><td>0</td></tr><tr><td>2016-06-24</td><td>7</td><td>7</td><td>0</td><td>128</td><td>9</td><td>61.42857142857143</td><td>0</td><td>6</td></tr><tr><td>2016-09-19</td><td>5</td><td>5</td><td>0</td><td>183</td><td>18</td><td>109.0</td><td>0</td><td>0</td></tr><tr><td>2016-02-07</td><td>4</td><td>4</td><td>0</td><td>61</td><td>56</td><td>58.75</td><td>1</td><td>3</td></tr><tr><td>2016-10-10</td><td>2</td><td>2</td><td>0</td><td>95</td><td>17</td><td>56.0</td><td>0</td><td>0</td></tr><tr><td>2016-08-11</td><td>5</td><td>5</td><td>0</td><td>319</td><td>22</td><td>146.0</td><td>0</td><td>0</td></tr><tr><td>2016-10-19</td><td>7</td><td>7</td><td>0</td><td>108</td><td>17</td><td>52.42857142857143</td><td>0</td><td>0</td></tr><tr><td>2016-01-12</td><td>6</td><td>6</td><td>0</td><td>151</td><td>2</td><td>36.333333333333336</td><td>1</td><td>5</td></tr><tr><td>2016-11-10</td><td>6</td><td>6</td><td>0</td><td>126</td><td>6</td><td>43.666666666666664</td><td>1</td><td>2</td></tr><tr><td>2016-05-04</td><td>4</td><td>4</td><td>0</td><td>145</td><td>5</td><td>70.5</td><td>0</td><td>4</td></tr><tr><td>2016-02-17</td><td>4</td><td>4</td><td>0</td><td>214</td><td>5</td><td>95.75</td><td>0</td><td>4</td></tr><tr><td>2016-11-05</td><td>3</td><td>3</td><td>0</td><td>28</td><td>22</td><td>24.0</td><td>0</td><td>0</td></tr><tr><td>2016-07-18</td><td>9</td><td>5</td><td>4</td><td>72</td><td>9</td><td>43.22222222222222</td><td>1</td><td>8</td></tr><tr><td>2016-12-10</td><td>4</td><td>4</td><td>0</td><td>156</td><td>3</td><td>86.5</td><td>1</td><td>3</td></tr><tr><td>2016-09-10</td><td>1</td><td>1</td><td>0</td><td>28</td><td>28</td><td>28.0</td><td>0</td><td>0</td></tr><tr><td>2016-03-28</td><td>3</td><td>0</td><td>3</td><td>272</td><td>36</td><td>188.33333333333334</td><td>0</td><td>0</td></tr><tr><td>2016-04-15</td><td>3</td><td>3</td><td>0</td><td>152</td><td>14</td><td>95.0</td><td>1</td><td>2</td></tr><tr><td>2016-04-28</td><td>3</td><td>3</td><td>0</td><td>328</td><td>55</td><td>169.0</td><td>0</td><td>3</td></tr><tr><td>2016-12-09</td><td>4</td><td>4</td><td>0</td><td>189</td><td>51</td><td>96.0</td><td>1</td><td>3</td></tr><tr><td>2016-03-15</td><td>2</td><td>2</td><td>0</td><td>28</td><td>2</td><td>15.0</td><td>0</td><td>2</td></tr><tr><td>2016-04-24</td><td>3</td><td>3</td><td>0</td><td>42</td><td>19</td><td>30.666666666666668</td><td>0</td><td>3</td></tr><tr><td>2016-01-30</td><td>2</td><td>2</td><td>0</td><td>57</td><td>57</td><td>57.0</td><td>0</td><td>2</td></tr><tr><td>2016-04-23</td><td>2</td><td>2</td><td>0</td><td>65</td><td>6</td><td>35.5</td><td>0</td><td>2</td></tr><tr><td>2016-03-08</td><td>3</td><td>2</td><td>1</td><td>76</td><td>16</td><td>54.666666666666664</td><td>0</td><td>2</td></tr><tr><td>2016-06-26</td><td>4</td><td>4</td><td>0</td><td>126</td><td>13</td><td>52.25</td><td>1</td><td>0</td></tr><tr><td>2016-05-19</td><td>3</td><td>3</td><td>0</td><td>59</td><td>6</td><td>31.333333333333332</td><td>0</td><td>1</td></tr><tr><td>2016-07-07</td><td>3</td><td>3</td><td>0</td><td>128</td><td>79</td><td>98.66666666666667</td><td>0</td><td>1</td></tr><tr><td>2016-07-01</td><td>5</td><td>5</td><td>0</td><td>133</td><td>99</td><td>109.8</td><td>5</td><td>0</td></tr><tr><td>2016-07-23</td><td>6</td><td>6</td><td>0</td><td>104</td><td>3</td><td>61.333333333333336</td><td>2</td><td>0</td></tr><tr><td>2016-02-24</td><td>2</td><td>2</td><td>0</td><td>17</td><td>15</td><td>16.0</td><td>0</td><td>1</td></tr><tr><td>2016-01-02</td><td>2</td><td>2</td><td>0</td><td>48</td><td>5</td><td>26.5</td><td>0</td><td>1</td></tr><tr><td>2016-09-06</td><td>1</td><td>1</td><td>0</td><td>691</td><td>691</td><td>691.0</td><td>0</td><td>0</td></tr><tr><td>2016-03-17</td><td>7</td><td>3</td><td>4</td><td>302</td><td>17</td><td>127.0</td><td>1</td><td>2</td></tr><tr><td>2016-08-17</td><td>8</td><td>8</td><td>0</td><td>121</td><td>14</td><td>60.375</td><td>0</td><td>1</td></tr><tr><td>2016-04-05</td><td>1</td><td>1</td><td>0</td><td>79</td><td>79</td><td>79.0</td><td>0</td><td>1</td></tr><tr><td>2016-08-24</td><td>2</td><td>2</td><td>0</td><td>962</td><td>252</td><td>607.0</td><td>0</td><td>0</td></tr><tr><td>2016-10-08</td><td>2</td><td>2</td><td>0</td><td>36</td><td>8</td><td>22.0</td><td>0</td><td>0</td></tr><tr><td>2016-06-21</td><td>2</td><td>2</td><td>0</td><td>193</td><td>166</td><td>179.5</td><td>0</td><td>1</td></tr><tr><td>2016-02-05</td><td>2</td><td>2</td><td>0</td><td>104</td><td>104</td><td>104.0</td><td>2</td><td>0</td></tr><tr><td>2016-04-06</td><td>1</td><td>1</td><td>0</td><td>8</td><td>8</td><td>8.0</td><td>0</td><td>1</td></tr><tr><td>2016-10-28</td><td>5</td><td>5</td><td>0</td><td>1336</td><td>99</td><td>512.8</td><td>5</td><td>0</td></tr><tr><td>2016-12-08</td><td>4</td><td>4</td><td>0</td><td>34</td><td>2</td><td>18.0</td><td>1</td><td>3</td></tr><tr><td>2016-03-30</td><td>1</td><td>1</td><td>0</td><td>288</td><td>288</td><td>288.0</td><td>0</td><td>1</td></tr><tr><td>2016-07-06</td><td>5</td><td>5</td><td>0</td><td>99</td><td>31</td><td>65.0</td><td>1</td><td>3</td></tr><tr><td>2016-06-03</td><td>7</td><td>7</td><td>0</td><td>104</td><td>4</td><td>42.0</td><td>2</td><td>5</td></tr><tr><td>2016-07-20</td><td>3</td><td>0</td><td>3</td><td>28</td><td>14</td><td>18.666666666666668</td><td>0</td><td>0</td></tr><tr><td>2016-06-30</td><td>1</td><td>1</td><td>0</td><td>99</td><td>99</td><td>99.0</td><td>1</td><td>0</td></tr><tr><td>2016-03-13</td><td>6</td><td>6</td><td>0</td><td>125</td><td>57</td><td>84.16666666666667</td><td>0</td><td>5</td></tr><tr><td>2016-12-24</td><td>8</td><td>8</td><td>0</td><td>107</td><td>6</td><td>40.875</td><td>0</td><td>8</td></tr><tr><td>2016-03-07</td><td>5</td><td>5</td><td>0</td><td>124</td><td>28</td><td>84.8</td><td>1</td><td>4</td></tr><tr><td>2016-06-28</td><td>4</td><td>4</td><td>0</td><td>104</td><td>82</td><td>95.0</td><td>3</td><td>1</td></tr><tr><td>2016-03-05</td><td>6</td><td>4</td><td>2</td><td>78</td><td>35</td><td>56.166666666666664</td><td>0</td><td>4</td></tr><tr><td>2016-03-12</td><td>2</td><td>1</td><td>1</td><td>22</td><td>19</td><td>20.5</td><td>0</td><td>0</td></tr><tr><td>2016-02-06</td><td>3</td><td>3</td><td>0</td><td>114</td><td>9</td><td>51.666666666666664</td><td>0</td><td>3</td></tr><tr><td>2016-05-20</td><td>2</td><td>2</td><td>0</td><td>112</td><td>82</td><td>97.0</td><td>1</td><td>1</td></tr><tr><td>2016-06-12</td><td>3</td><td>3</td><td>0</td><td>43</td><td>25</td><td>32.0</td><td>0</td><td>3</td></tr><tr><td>2016-07-05</td><td>5</td><td>5</td><td>0</td><td>99</td><td>6</td><td>60.4</td><td>1</td><td>2</td></tr><tr><td>2016-10-31</td><td>4</td><td>4</td><td>0</td><td>131</td><td>32</td><td>90.5</td><td>0</td><td>1</td></tr><tr><td>2016-11-13</td><td>14</td><td>14</td><td>0</td><td>446</td><td>4</td><td>79.78571428571429</td><td>1</td><td>3</td></tr><tr><td>2016-12-28</td><td>7</td><td>7</td><td>0</td><td>104</td><td>2</td><td>61.0</td><td>0</td><td>7</td></tr><tr><td>2016-11-12</td><td>8</td><td>8</td><td>0</td><td>64</td><td>6</td><td>28.0</td><td>1</td><td>1</td></tr><tr><td>2016-06-11</td><td>5</td><td>5</td><td>0</td><td>104</td><td>17</td><td>60.6</td><td>2</td><td>2</td></tr><tr><td>2016-09-28</td><td>1</td><td>1</td><td>0</td><td>205</td><td>205</td><td>205.0</td><td>0</td><td>0</td></tr><tr><td>2016-12-01</td><td>4</td><td>4</td><td>0</td><td>55</td><td>29</td><td>42.0</td><td>1</td><td>3</td></tr><tr><td>2016-01-15</td><td>3</td><td>3</td><td>0</td><td>104</td><td>8</td><td>72.0</td><td>0</td><td>3</td></tr><tr><td>2016-10-04</td><td>2</td><td>2</td><td>0</td><td>286</td><td>151</td><td>218.5</td><td>0</td><td>0</td></tr><tr><td>2016-06-25</td><td>8</td><td>8</td><td>0</td><td>155</td><td>11</td><td>49.25</td><td>2</td><td>3</td></tr><tr><td>2016-02-20</td><td>8</td><td>4</td><td>4</td><td>231</td><td>3</td><td>106.375</td><td>1</td><td>2</td></tr><tr><td>2016-11-20</td><td>4</td><td>4</td><td>0</td><td>392</td><td>27</td><td>167.0</td><td>1</td><td>3</td></tr><tr><td>2016-02-01</td><td>3</td><td>3</td><td>0</td><td>233</td><td>39</td><td>155.33333333333334</td><td>0</td><td>3</td></tr><tr><td>2016-07-22</td><td>8</td><td>8</td><td>0</td><td>122</td><td>8</td><td>59.75</td><td>1</td><td>1</td></tr><tr><td>2016-11-11</td><td>6</td><td>6</td><td>0</td><td>459</td><td>4</td><td>151.5</td><td>0</td><td>2</td></tr><tr><td>2016-08-25</td><td>5</td><td>5</td><td>0</td><td>504</td><td>35</td><td>151.8</td><td>0</td><td>0</td></tr><tr><td>2016-01-10</td><td>5</td><td>5</td><td>0</td><td>165</td><td>62</td><td>98.6</td><td>4</td><td>1</td></tr><tr><td>2016-05-22</td><td>2</td><td>2</td><td>0</td><td>25</td><td>3</td><td>14.0</td><td>0</td><td>2</td></tr><tr><td>2016-01-18</td><td>2</td><td>2</td><td>0</td><td>48</td><td>47</td><td>47.5</td><td>0</td><td>2</td></tr><tr><td>2016-09-29</td><td>1</td><td>1</td><td>0</td><td>126</td><td>126</td><td>126.0</td><td>0</td><td>0</td></tr><tr><td>2016-09-20</td><td>2</td><td>2</td><td>0</td><td>165</td><td>96</td><td>130.5</td><td>0</td><td>0</td></tr><tr><td>2016-07-28</td><td>1</td><td>1</td><td>0</td><td>23</td><td>23</td><td>23.0</td><td>0</td><td>0</td></tr><tr><td>2016-02-16</td><td>9</td><td>9</td><td>0</td><td>437</td><td>6</td><td>81.88888888888889</td><td>0</td><td>4</td></tr><tr><td>2016-10-25</td><td>6</td><td>6</td><td>0</td><td>112</td><td>22</td><td>57.0</td><td>0</td><td>2</td></tr><tr><td>2016-10-18</td><td>6</td><td>6</td><td>0</td><td>79</td><td>3</td><td>27.333333333333332</td><td>0</td><td>1</td></tr><tr><td>2016-01-07</td><td>1</td><td>1</td><td>0</td><td>8</td><td>8</td><td>8.0</td><td>1</td><td>0</td></tr><tr><td>2016-12-23</td><td>5</td><td>5</td><td>0</td><td>96</td><td>3</td><td>49.0</td><td>3</td><td>2</td></tr><tr><td>2016-05-18</td><td>3</td><td>3</td><td>0</td><td>87</td><td>76</td><td>82.33333333333333</td><td>0</td><td>2</td></tr><tr><td>2016-06-01</td><td>2</td><td>2</td><td>0</td><td>96</td><td>67</td><td>81.5</td><td>1</td><td>1</td></tr><tr><td>2016-12-26</td><td>5</td><td>5</td><td>0</td><td>79</td><td>32</td><td>57.6</td><td>1</td><td>4</td></tr><tr><td>2016-10-15</td><td>1</td><td>1</td><td>0</td><td>62</td><td>62</td><td>62.0</td><td>0</td><td>0</td></tr><tr><td>2016-07-25</td><td>4</td><td>4</td><td>0</td><td>79</td><td>15</td><td>40.0</td><td>0</td><td>0</td></tr><tr><td>2016-04-27</td><td>2</td><td>2</td><td>0</td><td>49</td><td>48</td><td>48.5</td><td>0</td><td>2</td></tr><tr><td>2016-11-03</td><td>6</td><td>6</td><td>0</td><td>31</td><td>14</td><td>23.833333333333332</td><td>0</td><td>2</td></tr><tr><td>2016-09-11</td><td>2</td><td>2</td><td>0</td><td>98</td><td>86</td><td>92.0</td><td>0</td><td>0</td></tr><tr><td>2016-06-07</td><td>2</td><td>2</td><td>0</td><td>104</td><td>99</td><td>101.5</td><td>2</td><td>0</td></tr><tr><td>2016-05-06</td><td>3</td><td>3</td><td>0</td><td>144</td><td>17</td><td>80.0</td><td>2</td><td>1</td></tr><tr><td>2016-08-28</td><td>4</td><td>4</td><td>0</td><td>121</td><td>53</td><td>84.25</td><td>0</td><td>0</td></tr><tr><td>2016-03-18</td><td>5</td><td>5</td><td>0</td><td>132</td><td>1</td><td>49.4</td><td>1</td><td>4</td></tr><tr><td>2016-12-07</td><td>4</td><td>4</td><td>0</td><td>69</td><td>4</td><td>36.5</td><td>2</td><td>2</td></tr><tr><td>2016-07-09</td><td>3</td><td>3</td><td>0</td><td>85</td><td>13</td><td>49.0</td><td>0</td><td>0</td></tr><tr><td>2016-11-09</td><td>8</td><td>8</td><td>0</td><td>127</td><td>7</td><td>51.375</td><td>1</td><td>1</td></tr><tr><td>2016-03-29</td><td>4</td><td>0</td><td>4</td><td>138</td><td>6</td><td>85.5</td><td>0</td><td>0</td></tr><tr><td>2016-03-23</td><td>2</td><td>0</td><td>2</td><td>17</td><td>16</td><td>16.5</td><td>0</td><td>0</td></tr><tr><td>2016-11-22</td><td>5</td><td>5</td><td>0</td><td>127</td><td>3</td><td>52.2</td><td>2</td><td>3</td></tr><tr><td>2016-07-15</td><td>5</td><td>0</td><td>5</td><td>224</td><td>32</td><td>101.2</td><td>0</td><td>0</td></tr><tr><td>2016-06-06</td><td>6</td><td>6</td><td>0</td><td>104</td><td>3</td><td>59.833333333333336</td><td>2</td><td>4</td></tr><tr><td>2016-11-16</td><td>2</td><td>2</td><td>0</td><td>31</td><td>23</td><td>27.0</td><td>0</td><td>2</td></tr></tbody></table></div>"
      ]
     },
     "metadata": {
      "application/vnd.databricks.v1+output": {
       "addedWidgets": {},
       "aggData": [],
       "aggError": "",
       "aggOverflow": false,
       "aggSchema": [],
       "aggSeriesLimitReached": false,
       "aggType": "",
       "arguments": {},
       "columnCustomDisplayInfos": {},
       "data": [
        [
         "2016-03-01",
         2,
         2,
         0,
         8,
         8,
         8.0,
         1,
         1
        ],
        [
         "2016-10-03",
         4,
         4,
         0,
         127,
         16,
         69.0,
         0,
         0
        ],
        [
         "2016-08-15",
         4,
         4,
         0,
         259,
         141,
         178.25,
         0,
         1
        ],
        [
         "2016-05-03",
         1,
         1,
         0,
         25,
         25,
         25.0,
         0,
         1
        ],
        [
         "2016-07-26",
         4,
         4,
         0,
         25,
         21,
         23.25,
         0,
         2
        ],
        [
         "2016-01-28",
         3,
         3,
         0,
         157,
         19,
         107.66666666666667,
         2,
         1
        ],
        [
         "2016-07-17",
         2,
         0,
         2,
         1802,
         151,
         976.5,
         0,
         2
        ],
        [
         "2016-12-19",
         11,
         11,
         0,
         102,
         7,
         45.0,
         1,
         5
        ],
        [
         "2016-11-08",
         4,
         4,
         0,
         122,
         3,
         68.5,
         1,
         1
        ],
        [
         "2016-08-23",
         8,
         8,
         0,
         177,
         5,
         70.375,
         0,
         0
        ],
        [
         "2016-07-03",
         3,
         3,
         0,
         99,
         31,
         53.666666666666664,
         1,
         2
        ],
        [
         "2016-02-04",
         7,
         7,
         0,
         97,
         9,
         39.714285714285715,
         2,
         5
        ],
        [
         "2016-01-13",
         4,
         4,
         0,
         219,
         39,
         122.0,
         2,
         2
        ],
        [
         "2016-09-23",
         1,
         1,
         0,
         29,
         29,
         29.0,
         0,
         0
        ],
        [
         "2016-04-22",
         4,
         4,
         0,
         225,
         10,
         118.75,
         4,
         0
        ],
        [
         "2016-01-01",
         1,
         1,
         0,
         51,
         51,
         51.0,
         0,
         1
        ],
        [
         "2016-09-30",
         2,
         2,
         0,
         377,
         167,
         272.0,
         0,
         0
        ],
        [
         "2016-01-19",
         1,
         1,
         0,
         72,
         72,
         72.0,
         0,
         0
        ],
        [
         "2016-07-19",
         5,
         4,
         1,
         87,
         3,
         48.2,
         1,
         3
        ],
        [
         "2016-05-09",
         4,
         4,
         0,
         205,
         84,
         140.75,
         0,
         4
        ],
        [
         "2016-09-15",
         1,
         1,
         0,
         9,
         9,
         9.0,
         0,
         0
        ],
        [
         "2016-12-12",
         5,
         5,
         0,
         47,
         3,
         25.6,
         0,
         5
        ],
        [
         "2016-10-07",
         7,
         7,
         0,
         332,
         24,
         87.85714285714286,
         0,
         0
        ],
        [
         "2016-02-08",
         2,
         2,
         0,
         43,
         27,
         35.0,
         0,
         2
        ],
        [
         "2016-05-23",
         2,
         2,
         0,
         36,
         36,
         36.0,
         0,
         2
        ],
        [
         "2016-12-13",
         2,
         2,
         0,
         42,
         41,
         41.5,
         0,
         2
        ],
        [
         "2016-03-25",
         3,
         3,
         0,
         3103,
         144,
         1149.3333333333333,
         1,
         2
        ],
        [
         "2016-08-26",
         10,
         10,
         0,
         79,
         5,
         41.0,
         0,
         0
        ],
        [
         "2016-08-01",
         8,
         8,
         0,
         91,
         13,
         51.125,
         0,
         0
        ],
        [
         "2016-09-27",
         4,
         4,
         0,
         1956,
         58,
         546.25,
         0,
         0
        ],
        [
         "2016-08-16",
         7,
         7,
         0,
         162,
         12,
         64.14285714285714,
         0,
         1
        ],
        [
         "2016-10-23",
         4,
         4,
         0,
         282,
         31,
         156.25,
         0,
         2
        ],
        [
         "2016-04-30",
         2,
         2,
         0,
         77,
         68,
         72.5,
         0,
         1
        ],
        [
         "2016-07-21",
         4,
         4,
         0,
         37,
         23,
         29.0,
         0,
         0
        ],
        [
         "2016-05-27",
         3,
         3,
         0,
         45,
         12,
         24.666666666666668,
         0,
         2
        ],
        [
         "2016-07-02",
         2,
         2,
         0,
         101,
         99,
         100.0,
         2,
         0
        ],
        [
         "2016-10-20",
         3,
         3,
         0,
         477,
         31,
         318.0,
         0,
         0
        ],
        [
         "2016-08-06",
         2,
         2,
         0,
         66,
         8,
         37.0,
         0,
         0
        ],
        [
         "2016-05-31",
         3,
         3,
         0,
         149,
         14,
         60.333333333333336,
         2,
         0
        ],
        [
         "2016-08-05",
         3,
         3,
         0,
         18,
         13,
         15.333333333333334,
         0,
         0
        ],
        [
         "2016-10-27",
         5,
         5,
         0,
         121,
         39,
         73.0,
         1,
         0
        ],
        [
         "2016-10-24",
         3,
         3,
         0,
         164,
         22,
         113.33333333333333,
         0,
         0
        ],
        [
         "2016-02-22",
         1,
         1,
         0,
         81,
         81,
         81.0,
         0,
         1
        ],
        [
         "2016-03-22",
         3,
         1,
         2,
         81,
         14,
         39.333333333333336,
         0,
         1
        ],
        [
         "2016-09-05",
         1,
         1,
         0,
         172,
         172,
         172.0,
         0,
         0
        ],
        [
         "2016-12-15",
         1,
         1,
         0,
         106,
         106,
         106.0,
         1,
         0
        ],
        [
         "2016-05-11",
         2,
         2,
         0,
         256,
         81,
         168.5,
         2,
         0
        ],
        [
         "2016-11-25",
         2,
         2,
         0,
         111,
         103,
         107.0,
         2,
         0
        ],
        [
         "2016-11-30",
         3,
         3,
         0,
         85,
         31,
         61.0,
         0,
         2
        ],
        [
         "2016-05-28",
         3,
         3,
         0,
         113,
         47,
         73.66666666666667,
         0,
         3
        ],
        [
         "2016-03-27",
         5,
         3,
         2,
         73,
         21,
         58.0,
         0,
         3
        ],
        [
         "2016-03-11",
         5,
         5,
         0,
         21,
         1,
         8.8,
         0,
         1
        ],
        [
         "2016-06-08",
         8,
         8,
         0,
         223,
         5,
         54.625,
         0,
         8
        ],
        [
         "2016-11-19",
         6,
         6,
         0,
         105,
         15,
         58.166666666666664,
         2,
         2
        ],
        [
         "2016-12-21",
         10,
         10,
         0,
         162,
         2,
         59.2,
         5,
         5
        ],
        [
         "2016-12-20",
         8,
         8,
         0,
         194,
         12,
         56.0,
         1,
         6
        ],
        [
         "2016-08-03",
         3,
         3,
         0,
         15,
         2,
         9.333333333333334,
         0,
         0
        ],
        [
         "2016-07-31",
         1,
         1,
         0,
         18,
         18,
         18.0,
         0,
         0
        ],
        [
         "2016-06-13",
         5,
         5,
         0,
         132,
         39,
         71.6,
         1,
         4
        ],
        [
         "2016-12-22",
         9,
         9,
         0,
         323,
         14,
         103.88888888888889,
         4,
         5
        ],
        [
         "2016-01-11",
         3,
         3,
         0,
         19,
         16,
         17.333333333333332,
         0,
         3
        ],
        [
         "2016-08-12",
         2,
         2,
         0,
         19,
         18,
         18.5,
         0,
         0
        ],
        [
         "2016-03-14",
         2,
         2,
         0,
         27,
         2,
         14.5,
         0,
         1
        ],
        [
         "2016-04-16",
         2,
         2,
         0,
         61,
         6,
         33.5,
         0,
         2
        ],
        [
         "2016-10-17",
         5,
         5,
         0,
         206,
         33,
         104.8,
         0,
         0
        ],
        [
         "2016-08-19",
         7,
         7,
         0,
         125,
         2,
         55.714285714285715,
         0,
         0
        ],
        [
         "2016-09-14",
         1,
         1,
         0,
         7,
         7,
         7.0,
         0,
         0
        ],
        [
         "2016-06-29",
         6,
         6,
         0,
         104,
         16,
         64.0,
         2,
         0
        ],
        [
         "2016-03-03",
         5,
         4,
         1,
         173,
         22,
         69.2,
         1,
         3
        ],
        [
         "2016-01-05",
         1,
         1,
         0,
         47,
         47,
         47.0,
         1,
         0
        ],
        [
         "2016-01-06",
         3,
         3,
         0,
         637,
         43,
         250.33333333333334,
         1,
         2
        ],
        [
         "2016-06-27",
         11,
         11,
         0,
         469,
         1,
         79.63636363636364,
         0,
         0
        ],
        [
         "2016-08-10",
         4,
         4,
         0,
         153,
         1,
         72.25,
         0,
         0
        ],
        [
         "2016-04-29",
         4,
         4,
         0,
         182,
         10,
         108.25,
         3,
         1
        ],
        [
         "2016-10-30",
         9,
         9,
         0,
         1959,
         63,
         433.55555555555554,
         0,
         0
        ],
        [
         "2016-01-20",
         3,
         3,
         0,
         402,
         151,
         241.33333333333334,
         2,
         1
        ],
        [
         "2016-05-05",
         3,
         3,
         0,
         142,
         29,
         100.0,
         1,
         2
        ],
        [
         "2016-02-11",
         4,
         4,
         0,
         173,
         57,
         106.5,
         0,
         4
        ],
        [
         "2016-10-06",
         4,
         4,
         0,
         1126,
         138,
         406.75,
         0,
         0
        ],
        [
         "2016-04-19",
         2,
         2,
         0,
         82,
         8,
         45.0,
         0,
         2
        ],
        [
         "2016-09-12",
         3,
         3,
         0,
         115,
         17,
         56.0,
         0,
         0
        ],
        [
         "2016-02-09",
         6,
         2,
         4,
         61,
         3,
         40.666666666666664,
         0,
         1
        ],
        [
         "2016-04-14",
         2,
         2,
         0,
         153,
         137,
         145.0,
         0,
         2
        ],
        [
         "2016-01-29",
         6,
         6,
         0,
         104,
         46,
         69.33333333333333,
         3,
         3
        ],
        [
         "2016-01-26",
         5,
         5,
         0,
         23,
         2,
         12.6,
         0,
         5
        ],
        [
         "2016-11-15",
         3,
         3,
         0,
         118,
         51,
         88.66666666666667,
         0,
         2
        ],
        [
         "2016-08-13",
         1,
         1,
         0,
         84,
         84,
         84.0,
         1,
         0
        ],
        [
         "2016-09-18",
         1,
         1,
         0,
         94,
         94,
         94.0,
         0,
         0
        ],
        [
         "2016-12-03",
         3,
         3,
         0,
         66,
         3,
         29.0,
         0,
         2
        ],
        [
         "2016-07-13",
         3,
         0,
         3,
         235,
         22,
         100.33333333333333,
         0,
         0
        ],
        [
         "2016-03-20",
         5,
         4,
         1,
         104,
         12,
         66.6,
         2,
         1
        ],
        [
         "2016-10-21",
         1,
         1,
         0,
         132,
         132,
         132.0,
         0,
         0
        ],
        [
         "2016-09-01",
         3,
         3,
         0,
         106,
         13,
         47.0,
         0,
         0
        ],
        [
         "2016-04-08",
         5,
         5,
         0,
         191,
         18,
         117.4,
         3,
         2
        ],
        [
         "2016-03-16",
         3,
         3,
         0,
         21,
         2,
         13.333333333333334,
         0,
         2
        ],
        [
         "2016-02-25",
         4,
         4,
         0,
         58,
         6,
         31.75,
         0,
         4
        ],
        [
         "2016-12-25",
         3,
         3,
         0,
         23,
         6,
         17.333333333333332,
         0,
         3
        ],
        [
         "2016-12-31",
         5,
         5,
         0,
         482,
         7,
         150.8,
         2,
         3
        ],
        [
         "2016-11-21",
         5,
         5,
         0,
         67,
         21,
         36.4,
         0,
         5
        ],
        [
         "2016-03-19",
         9,
         9,
         0,
         365,
         12,
         113.11111111111111,
         1,
         7
        ],
        [
         "2016-08-30",
         5,
         5,
         0,
         88,
         13,
         43.8,
         0,
         0
        ],
        [
         "2016-10-29",
         2,
         2,
         0,
         757,
         407,
         582.0,
         1,
         0
        ],
        [
         "2016-08-07",
         4,
         4,
         0,
         27,
         25,
         26.0,
         0,
         2
        ],
        [
         "2016-11-06",
         5,
         5,
         0,
         439,
         18,
         108.4,
         1,
         1
        ],
        [
         "2016-04-02",
         6,
         4,
         2,
         1742,
         51,
         595.0,
         1,
         3
        ],
        [
         "2016-10-26",
         2,
         2,
         0,
         21,
         21,
         21.0,
         1,
         0
        ],
        [
         "2016-03-31",
         2,
         2,
         0,
         164,
         161,
         162.5,
         0,
         2
        ],
        [
         "2016-09-02",
         2,
         2,
         0,
         129,
         92,
         110.5,
         0,
         0
        ],
        [
         "2016-07-16",
         6,
         1,
         5,
         419,
         13,
         172.16666666666666,
         0,
         1
        ],
        [
         "2016-07-10",
         4,
         4,
         0,
         136,
         13,
         75.25,
         0,
         0
        ],
        [
         "2016-02-18",
         5,
         5,
         0,
         235,
         6,
         86.0,
         1,
         4
        ],
        [
         "2016-12-30",
         5,
         5,
         0,
         46,
         8,
         31.4,
         1,
         4
        ],
        [
         "2016-12-17",
         2,
         2,
         0,
         53,
         48,
         50.5,
         0,
         2
        ],
        [
         "2016-12-02",
         4,
         4,
         0,
         53,
         3,
         35.0,
         0,
         4
        ],
        [
         "2016-02-28",
         2,
         2,
         0,
         77,
         68,
         72.5,
         2,
         0
        ],
        [
         "2016-08-27",
         5,
         5,
         0,
         1569,
         7,
         509.4,
         0,
         0
        ],
        [
         "2016-10-09",
         1,
         1,
         0,
         77,
         77,
         77.0,
         0,
         1
        ],
        [
         "2016-05-01",
         5,
         5,
         0,
         75,
         21,
         42.4,
         1,
         3
        ],
        [
         "2016-08-18",
         1,
         1,
         0,
         76,
         76,
         76.0,
         0,
         1
        ],
        [
         "2016-12-18",
         3,
         3,
         0,
         102,
         49,
         81.0,
         0,
         2
        ],
        [
         "2016-11-07",
         2,
         2,
         0,
         132,
         118,
         125.0,
         0,
         2
        ],
        [
         "2016-02-12",
         6,
         6,
         0,
         115,
         17,
         57.5,
         2,
         4
        ],
        [
         "2016-09-16",
         1,
         1,
         0,
         16,
         16,
         16.0,
         0,
         0
        ],
        [
         "2016-11-04",
         4,
         4,
         0,
         79,
         38,
         49.75,
         0,
         1
        ],
        [
         "2016-12-29",
         13,
         13,
         0,
         129,
         3,
         55.53846153846154,
         2,
         10
        ],
        [
         "2016-12-27",
         6,
         6,
         0,
         79,
         5,
         37.5,
         1,
         5
        ],
        [
         "2016-06-05",
         6,
         6,
         0,
         99,
         25,
         69.5,
         2,
         4
        ],
        [
         "2016-12-05",
         2,
         2,
         0,
         41,
         38,
         39.5,
         0,
         1
        ],
        [
         "2016-09-13",
         1,
         1,
         0,
         7,
         7,
         7.0,
         0,
         0
        ],
        [
         "2016-10-14",
         4,
         4,
         0,
         127,
         17,
         76.5,
         1,
         0
        ],
        [
         "2016-08-22",
         10,
         10,
         0,
         187,
         15,
         67.9,
         0,
         0
        ],
        [
         "2016-08-21",
         5,
         5,
         0,
         202,
         14,
         98.2,
         0,
         1
        ],
        [
         "2016-07-29",
         2,
         2,
         0,
         22,
         22,
         22.0,
         0,
         1
        ],
        [
         "2016-09-24",
         2,
         2,
         0,
         82,
         24,
         53.0,
         0,
         0
        ],
        [
         "2016-05-02",
         2,
         2,
         0,
         39,
         22,
         30.5,
         0,
         2
        ],
        [
         "2016-07-08",
         4,
         4,
         0,
         132,
         7,
         85.25,
         0,
         0
        ],
        [
         "2016-08-29",
         8,
         8,
         0,
         108,
         4,
         43.25,
         0,
         1
        ],
        [
         "2016-02-29",
         5,
         4,
         1,
         66,
         21,
         41.4,
         2,
         1
        ],
        [
         "2016-07-04",
         4,
         4,
         0,
         118,
         87,
         98.0,
         3,
         1
        ],
        [
         "2016-10-11",
         1,
         1,
         0,
         171,
         171,
         171.0,
         1,
         0
        ],
        [
         "2016-03-24",
         2,
         1,
         1,
         22,
         2,
         12.0,
         0,
         0
        ],
        [
         "2016-11-23",
         4,
         4,
         0,
         59,
         13,
         31.0,
         0,
         1
        ],
        [
         "2016-07-12",
         3,
         1,
         2,
         123,
         14,
         74.66666666666667,
         0,
         0
        ],
        [
         "2016-12-11",
         3,
         3,
         0,
         48,
         3,
         24.0,
         0,
         3
        ],
        [
         "2016-07-30",
         2,
         2,
         0,
         133,
         14,
         73.5,
         0,
         0
        ],
        [
         "2016-01-21",
         3,
         3,
         0,
         24,
         1,
         13.666666666666666,
         0,
         3
        ],
        [
         "2016-03-04",
         10,
         10,
         0,
         157,
         2,
         78.1,
         4,
         6
        ],
        [
         "2016-08-08",
         5,
         5,
         0,
         52,
         4,
         32.6,
         0,
         2
        ],
        [
         "2016-01-27",
         5,
         5,
         0,
         187,
         18,
         79.0,
         1,
         4
        ],
        [
         "2016-11-18",
         3,
         3,
         0,
         61,
         31,
         48.0,
         1,
         2
        ],
        [
         "2016-11-01",
         6,
         6,
         0,
         165,
         1,
         64.83333333333333,
         0,
         1
        ],
        [
         "2016-07-14",
         3,
         2,
         1,
         1953,
         33,
         701.3333333333334,
         0,
         1
        ],
        [
         "2016-04-01",
         4,
         3,
         1,
         203,
         7,
         94.0,
         2,
         1
        ],
        [
         "2016-08-09",
         3,
         3,
         0,
         174,
         69,
         130.66666666666666,
         0,
         0
        ],
        [
         "2016-05-15",
         5,
         4,
         1,
         124,
         15,
         55.4,
         0,
         4
        ],
        [
         "2016-06-10",
         3,
         3,
         0,
         163,
         99,
         122.0,
         3,
         0
        ],
        [
         "2016-10-12",
         1,
         1,
         0,
         184,
         184,
         184.0,
         0,
         0
        ],
        [
         "2016-03-21",
         4,
         3,
         1,
         256,
         1,
         88.5,
         0,
         2
        ],
        [
         "2016-02-19",
         10,
         6,
         4,
         183,
         1,
         69.8,
         3,
         1
        ],
        [
         "2016-04-07",
         2,
         2,
         0,
         61,
         61,
         61.0,
         0,
         2
        ],
        [
         "2016-02-21",
         11,
         11,
         0,
         227,
         13,
         76.9090909090909,
         1,
         8
        ],
        [
         "2016-03-26",
         3,
         0,
         3,
         88,
         12,
         55.666666666666664,
         0,
         0
        ],
        [
         "2016-05-16",
         5,
         5,
         0,
         145,
         15,
         90.4,
         0,
         0
        ],
        [
         "2016-11-17",
         1,
         1,
         0,
         163,
         163,
         163.0,
         0,
         1
        ],
        [
         "2016-10-16",
         7,
         7,
         0,
         105,
         21,
         48.142857142857146,
         2,
         1
        ],
        [
         "2016-05-14",
         6,
         6,
         0,
         116,
         31,
         70.0,
         2,
         3
        ],
        [
         "2016-10-22",
         3,
         3,
         0,
         172,
         14,
         91.0,
         0,
         0
        ],
        [
         "2016-12-04",
         2,
         2,
         0,
         34,
         29,
         31.5,
         0,
         2
        ],
        [
         "2016-08-02",
         4,
         4,
         0,
         84,
         1,
         33.75,
         1,
         0
        ],
        [
         "2016-04-12",
         5,
         5,
         0,
         159,
         28,
         83.2,
         2,
         3
        ],
        [
         "2016-07-27",
         3,
         3,
         0,
         147,
         28,
         107.0,
         0,
         0
        ],
        [
         "2016-02-13",
         7,
         5,
         2,
         139,
         2,
         52.714285714285715,
         5,
         0
        ],
        [
         "2016-05-10",
         2,
         2,
         0,
         93,
         79,
         86.0,
         0,
         2
        ],
        [
         "2016-02-26",
         7,
         3,
         4,
         106,
         2,
         49.714285714285715,
         2,
         0
        ],
        [
         "2016-05-17",
         4,
         4,
         0,
         122,
         19,
         49.0,
         0,
         3
        ],
        [
         "2016-11-27",
         2,
         2,
         0,
         33,
         29,
         31.0,
         0,
         1
        ],
        [
         "2016-10-13",
         5,
         5,
         0,
         109,
         1,
         47.6,
         0,
         0
        ],
        [
         "2016-04-03",
         1,
         1,
         0,
         1593,
         1593,
         1593.0,
         1,
         0
        ],
        [
         "2016-02-02",
         3,
         3,
         0,
         83,
         6,
         35.0,
         1,
         2
        ],
        [
         "2016-11-26",
         5,
         5,
         0,
         133,
         9,
         46.4,
         2,
         2
        ],
        [
         "2016-03-10",
         4,
         4,
         0,
         128,
         16,
         62.75,
         2,
         0
        ],
        [
         "2016-12-14",
         4,
         4,
         0,
         34,
         3,
         25.25,
         0,
         2
        ],
        [
         "2016-11-02",
         5,
         5,
         0,
         85,
         5,
         32.0,
         1,
         0
        ],
        [
         "2016-06-24",
         7,
         7,
         0,
         128,
         9,
         61.42857142857143,
         0,
         6
        ],
        [
         "2016-09-19",
         5,
         5,
         0,
         183,
         18,
         109.0,
         0,
         0
        ],
        [
         "2016-02-07",
         4,
         4,
         0,
         61,
         56,
         58.75,
         1,
         3
        ],
        [
         "2016-10-10",
         2,
         2,
         0,
         95,
         17,
         56.0,
         0,
         0
        ],
        [
         "2016-08-11",
         5,
         5,
         0,
         319,
         22,
         146.0,
         0,
         0
        ],
        [
         "2016-10-19",
         7,
         7,
         0,
         108,
         17,
         52.42857142857143,
         0,
         0
        ],
        [
         "2016-01-12",
         6,
         6,
         0,
         151,
         2,
         36.333333333333336,
         1,
         5
        ],
        [
         "2016-11-10",
         6,
         6,
         0,
         126,
         6,
         43.666666666666664,
         1,
         2
        ],
        [
         "2016-05-04",
         4,
         4,
         0,
         145,
         5,
         70.5,
         0,
         4
        ],
        [
         "2016-02-17",
         4,
         4,
         0,
         214,
         5,
         95.75,
         0,
         4
        ],
        [
         "2016-11-05",
         3,
         3,
         0,
         28,
         22,
         24.0,
         0,
         0
        ],
        [
         "2016-07-18",
         9,
         5,
         4,
         72,
         9,
         43.22222222222222,
         1,
         8
        ],
        [
         "2016-12-10",
         4,
         4,
         0,
         156,
         3,
         86.5,
         1,
         3
        ],
        [
         "2016-09-10",
         1,
         1,
         0,
         28,
         28,
         28.0,
         0,
         0
        ],
        [
         "2016-03-28",
         3,
         0,
         3,
         272,
         36,
         188.33333333333334,
         0,
         0
        ],
        [
         "2016-04-15",
         3,
         3,
         0,
         152,
         14,
         95.0,
         1,
         2
        ],
        [
         "2016-04-28",
         3,
         3,
         0,
         328,
         55,
         169.0,
         0,
         3
        ],
        [
         "2016-12-09",
         4,
         4,
         0,
         189,
         51,
         96.0,
         1,
         3
        ],
        [
         "2016-03-15",
         2,
         2,
         0,
         28,
         2,
         15.0,
         0,
         2
        ],
        [
         "2016-04-24",
         3,
         3,
         0,
         42,
         19,
         30.666666666666668,
         0,
         3
        ],
        [
         "2016-01-30",
         2,
         2,
         0,
         57,
         57,
         57.0,
         0,
         2
        ],
        [
         "2016-04-23",
         2,
         2,
         0,
         65,
         6,
         35.5,
         0,
         2
        ],
        [
         "2016-03-08",
         3,
         2,
         1,
         76,
         16,
         54.666666666666664,
         0,
         2
        ],
        [
         "2016-06-26",
         4,
         4,
         0,
         126,
         13,
         52.25,
         1,
         0
        ],
        [
         "2016-05-19",
         3,
         3,
         0,
         59,
         6,
         31.333333333333332,
         0,
         1
        ],
        [
         "2016-07-07",
         3,
         3,
         0,
         128,
         79,
         98.66666666666667,
         0,
         1
        ],
        [
         "2016-07-01",
         5,
         5,
         0,
         133,
         99,
         109.8,
         5,
         0
        ],
        [
         "2016-07-23",
         6,
         6,
         0,
         104,
         3,
         61.333333333333336,
         2,
         0
        ],
        [
         "2016-02-24",
         2,
         2,
         0,
         17,
         15,
         16.0,
         0,
         1
        ],
        [
         "2016-01-02",
         2,
         2,
         0,
         48,
         5,
         26.5,
         0,
         1
        ],
        [
         "2016-09-06",
         1,
         1,
         0,
         691,
         691,
         691.0,
         0,
         0
        ],
        [
         "2016-03-17",
         7,
         3,
         4,
         302,
         17,
         127.0,
         1,
         2
        ],
        [
         "2016-08-17",
         8,
         8,
         0,
         121,
         14,
         60.375,
         0,
         1
        ],
        [
         "2016-04-05",
         1,
         1,
         0,
         79,
         79,
         79.0,
         0,
         1
        ],
        [
         "2016-08-24",
         2,
         2,
         0,
         962,
         252,
         607.0,
         0,
         0
        ],
        [
         "2016-10-08",
         2,
         2,
         0,
         36,
         8,
         22.0,
         0,
         0
        ],
        [
         "2016-06-21",
         2,
         2,
         0,
         193,
         166,
         179.5,
         0,
         1
        ],
        [
         "2016-02-05",
         2,
         2,
         0,
         104,
         104,
         104.0,
         2,
         0
        ],
        [
         "2016-04-06",
         1,
         1,
         0,
         8,
         8,
         8.0,
         0,
         1
        ],
        [
         "2016-10-28",
         5,
         5,
         0,
         1336,
         99,
         512.8,
         5,
         0
        ],
        [
         "2016-12-08",
         4,
         4,
         0,
         34,
         2,
         18.0,
         1,
         3
        ],
        [
         "2016-03-30",
         1,
         1,
         0,
         288,
         288,
         288.0,
         0,
         1
        ],
        [
         "2016-07-06",
         5,
         5,
         0,
         99,
         31,
         65.0,
         1,
         3
        ],
        [
         "2016-06-03",
         7,
         7,
         0,
         104,
         4,
         42.0,
         2,
         5
        ],
        [
         "2016-07-20",
         3,
         0,
         3,
         28,
         14,
         18.666666666666668,
         0,
         0
        ],
        [
         "2016-06-30",
         1,
         1,
         0,
         99,
         99,
         99.0,
         1,
         0
        ],
        [
         "2016-03-13",
         6,
         6,
         0,
         125,
         57,
         84.16666666666667,
         0,
         5
        ],
        [
         "2016-12-24",
         8,
         8,
         0,
         107,
         6,
         40.875,
         0,
         8
        ],
        [
         "2016-03-07",
         5,
         5,
         0,
         124,
         28,
         84.8,
         1,
         4
        ],
        [
         "2016-06-28",
         4,
         4,
         0,
         104,
         82,
         95.0,
         3,
         1
        ],
        [
         "2016-03-05",
         6,
         4,
         2,
         78,
         35,
         56.166666666666664,
         0,
         4
        ],
        [
         "2016-03-12",
         2,
         1,
         1,
         22,
         19,
         20.5,
         0,
         0
        ],
        [
         "2016-02-06",
         3,
         3,
         0,
         114,
         9,
         51.666666666666664,
         0,
         3
        ],
        [
         "2016-05-20",
         2,
         2,
         0,
         112,
         82,
         97.0,
         1,
         1
        ],
        [
         "2016-06-12",
         3,
         3,
         0,
         43,
         25,
         32.0,
         0,
         3
        ],
        [
         "2016-07-05",
         5,
         5,
         0,
         99,
         6,
         60.4,
         1,
         2
        ],
        [
         "2016-10-31",
         4,
         4,
         0,
         131,
         32,
         90.5,
         0,
         1
        ],
        [
         "2016-11-13",
         14,
         14,
         0,
         446,
         4,
         79.78571428571429,
         1,
         3
        ],
        [
         "2016-12-28",
         7,
         7,
         0,
         104,
         2,
         61.0,
         0,
         7
        ],
        [
         "2016-11-12",
         8,
         8,
         0,
         64,
         6,
         28.0,
         1,
         1
        ],
        [
         "2016-06-11",
         5,
         5,
         0,
         104,
         17,
         60.6,
         2,
         2
        ],
        [
         "2016-09-28",
         1,
         1,
         0,
         205,
         205,
         205.0,
         0,
         0
        ],
        [
         "2016-12-01",
         4,
         4,
         0,
         55,
         29,
         42.0,
         1,
         3
        ],
        [
         "2016-01-15",
         3,
         3,
         0,
         104,
         8,
         72.0,
         0,
         3
        ],
        [
         "2016-10-04",
         2,
         2,
         0,
         286,
         151,
         218.5,
         0,
         0
        ],
        [
         "2016-06-25",
         8,
         8,
         0,
         155,
         11,
         49.25,
         2,
         3
        ],
        [
         "2016-02-20",
         8,
         4,
         4,
         231,
         3,
         106.375,
         1,
         2
        ],
        [
         "2016-11-20",
         4,
         4,
         0,
         392,
         27,
         167.0,
         1,
         3
        ],
        [
         "2016-02-01",
         3,
         3,
         0,
         233,
         39,
         155.33333333333334,
         0,
         3
        ],
        [
         "2016-07-22",
         8,
         8,
         0,
         122,
         8,
         59.75,
         1,
         1
        ],
        [
         "2016-11-11",
         6,
         6,
         0,
         459,
         4,
         151.5,
         0,
         2
        ],
        [
         "2016-08-25",
         5,
         5,
         0,
         504,
         35,
         151.8,
         0,
         0
        ],
        [
         "2016-01-10",
         5,
         5,
         0,
         165,
         62,
         98.6,
         4,
         1
        ],
        [
         "2016-05-22",
         2,
         2,
         0,
         25,
         3,
         14.0,
         0,
         2
        ],
        [
         "2016-01-18",
         2,
         2,
         0,
         48,
         47,
         47.5,
         0,
         2
        ],
        [
         "2016-09-29",
         1,
         1,
         0,
         126,
         126,
         126.0,
         0,
         0
        ],
        [
         "2016-09-20",
         2,
         2,
         0,
         165,
         96,
         130.5,
         0,
         0
        ],
        [
         "2016-07-28",
         1,
         1,
         0,
         23,
         23,
         23.0,
         0,
         0
        ],
        [
         "2016-02-16",
         9,
         9,
         0,
         437,
         6,
         81.88888888888889,
         0,
         4
        ],
        [
         "2016-10-25",
         6,
         6,
         0,
         112,
         22,
         57.0,
         0,
         2
        ],
        [
         "2016-10-18",
         6,
         6,
         0,
         79,
         3,
         27.333333333333332,
         0,
         1
        ],
        [
         "2016-01-07",
         1,
         1,
         0,
         8,
         8,
         8.0,
         1,
         0
        ],
        [
         "2016-12-23",
         5,
         5,
         0,
         96,
         3,
         49.0,
         3,
         2
        ],
        [
         "2016-05-18",
         3,
         3,
         0,
         87,
         76,
         82.33333333333333,
         0,
         2
        ],
        [
         "2016-06-01",
         2,
         2,
         0,
         96,
         67,
         81.5,
         1,
         1
        ],
        [
         "2016-12-26",
         5,
         5,
         0,
         79,
         32,
         57.6,
         1,
         4
        ],
        [
         "2016-10-15",
         1,
         1,
         0,
         62,
         62,
         62.0,
         0,
         0
        ],
        [
         "2016-07-25",
         4,
         4,
         0,
         79,
         15,
         40.0,
         0,
         0
        ],
        [
         "2016-04-27",
         2,
         2,
         0,
         49,
         48,
         48.5,
         0,
         2
        ],
        [
         "2016-11-03",
         6,
         6,
         0,
         31,
         14,
         23.833333333333332,
         0,
         2
        ],
        [
         "2016-09-11",
         2,
         2,
         0,
         98,
         86,
         92.0,
         0,
         0
        ],
        [
         "2016-06-07",
         2,
         2,
         0,
         104,
         99,
         101.5,
         2,
         0
        ],
        [
         "2016-05-06",
         3,
         3,
         0,
         144,
         17,
         80.0,
         2,
         1
        ],
        [
         "2016-08-28",
         4,
         4,
         0,
         121,
         53,
         84.25,
         0,
         0
        ],
        [
         "2016-03-18",
         5,
         5,
         0,
         132,
         1,
         49.4,
         1,
         4
        ],
        [
         "2016-12-07",
         4,
         4,
         0,
         69,
         4,
         36.5,
         2,
         2
        ],
        [
         "2016-07-09",
         3,
         3,
         0,
         85,
         13,
         49.0,
         0,
         0
        ],
        [
         "2016-11-09",
         8,
         8,
         0,
         127,
         7,
         51.375,
         1,
         1
        ],
        [
         "2016-03-29",
         4,
         0,
         4,
         138,
         6,
         85.5,
         0,
         0
        ],
        [
         "2016-03-23",
         2,
         0,
         2,
         17,
         16,
         16.5,
         0,
         0
        ],
        [
         "2016-11-22",
         5,
         5,
         0,
         127,
         3,
         52.2,
         2,
         3
        ],
        [
         "2016-07-15",
         5,
         0,
         5,
         224,
         32,
         101.2,
         0,
         0
        ],
        [
         "2016-06-06",
         6,
         6,
         0,
         104,
         3,
         59.833333333333336,
         2,
         4
        ],
        [
         "2016-11-16",
         2,
         2,
         0,
         31,
         23,
         27.0,
         0,
         2
        ]
       ],
       "datasetInfos": [],
       "dbfsResultPath": null,
       "isJsonSchema": true,
       "metadata": {},
       "overflow": false,
       "plotOptions": {
        "customPlotOptions": {},
        "displayType": "table",
        "pivotAggregation": null,
        "pivotColumns": null,
        "xColumns": null,
        "yColumns": null
       },
       "removedWidgets": [],
       "schema": [
        {
         "metadata": "{}",
         "name": "DT_REFE",
         "type": "\"date\""
        },
        {
         "metadata": "{}",
         "name": "QT_CORR",
         "type": "\"integer\""
        },
        {
         "metadata": "{}",
         "name": "QT_CORR_NEG",
         "type": "\"integer\""
        },
        {
         "metadata": "{}",
         "name": "QT_CORR_PESS",
         "type": "\"integer\""
        },
        {
         "metadata": "{}",
         "name": "VL_MAX_DIST",
         "type": "\"integer\""
        },
        {
         "metadata": "{}",
         "name": "VL_MIN_DIST",
         "type": "\"integer\""
        },
        {
         "metadata": "{}",
         "name": "VL_AVG_DIST",
         "type": "\"double\""
        },
        {
         "metadata": "{}",
         "name": "QT_CORR_REUNI",
         "type": "\"integer\""
        },
        {
         "metadata": "{}",
         "name": "QT_CORR_NAO_REUNI",
         "type": "\"integer\""
        }
       ],
       "type": "table"
      }
     },
     "output_type": "display_data"
    }
   ],
   "source": [
    "%sql\n",
    "select * from sql_final"
   ]
  }
 ],
 "metadata": {
  "application/vnd.databricks.v1+notebook": {
   "computePreferences": null,
   "dashboards": [],
   "environmentMetadata": {
    "base_environment": "",
    "environment_version": "1"
   },
   "inputWidgetPreferences": null,
   "language": "python",
   "notebookMetadata": {
    "mostRecentlyExecutedCommandWithImplicitDF": {
     "commandId": 2918026764625942,
     "dataframes": [
      "_sqldf"
     ]
    },
    "pythonIndentUnit": 4
   },
   "notebookName": "TESTES",
   "widgets": {}
  }
 },
 "nbformat": 4,
 "nbformat_minor": 0
}