{
 "cells": [
  {
   "cell_type": "code",
   "execution_count": 0,
   "metadata": {
    "application/vnd.databricks.v1+cell": {
     "cellMetadata": {
      "byteLimit": 2048000,
      "rowLimit": 10000
     },
     "inputWidgets": {},
     "nuid": "4e349c5d-a0c9-41b3-afaa-5b5f2d7ee721",
     "showTitle": false,
     "tableResultSettingsMap": {},
     "title": ""
    }
   },
   "outputs": [],
   "source": [
    "%run\n",
    "/Users/leonardomares1@gmail.com/CODE_ELEVATE/Diário_de_Bordo/UTILS"
   ]
  },
  {
   "cell_type": "code",
   "execution_count": 0,
   "metadata": {
    "application/vnd.databricks.v1+cell": {
     "cellMetadata": {
      "byteLimit": 2048000,
      "rowLimit": 10000
     },
     "inputWidgets": {},
     "nuid": "d05b4c7f-5853-4207-9694-24d91d50d17b",
     "showTitle": false,
     "tableResultSettingsMap": {},
     "title": ""
    }
   },
   "outputs": [
    {
     "output_type": "stream",
     "name": "stdout",
     "output_type": "stream",
     "text": [
      "Out[12]: True"
     ]
    }
   ],
   "source": [
    "dbutils.fs.rm('dbfs:/user/hive/warehouse/info_corridas_do_dia', recurse=True)"
   ]
  },
  {
   "cell_type": "code",
   "execution_count": 0,
   "metadata": {
    "application/vnd.databricks.v1+cell": {
     "cellMetadata": {
      "byteLimit": 2048000,
      "rowLimit": 10000
     },
     "inputWidgets": {},
     "nuid": "a93b09b8-acec-4ab7-83c3-90c4abba242e",
     "showTitle": false,
     "tableResultSettingsMap": {},
     "title": ""
    }
   },
   "outputs": [],
   "source": [
    "nome_tabela = \"info_corridas_do_dia\"\n",
    "particao = \"DT_REFE\"\n",
    "colunas = [\n",
    "    \"DT_REFE date\",\n",
    "    \"QT_CORR int\",\n",
    "    \"QT_CORR_NEG int\",\n",
    "    \"QT_CORR_PESS int\",\n",
    "    \"VL_MAX_DIST int\",\n",
    "    \"VL_MIN_DIST int\",\n",
    "    \"VL_AVG_DIST decimal(10,2)\",\n",
    "    \"QT_CORR_REUNI int\",\n",
    "    \"QT_CORR_NAO_REUNI int\"\n",
    "]"
   ]
  },
  {
   "cell_type": "code",
   "execution_count": 0,
   "metadata": {
    "application/vnd.databricks.v1+cell": {
     "cellMetadata": {
      "byteLimit": 2048000,
      "rowLimit": 10000
     },
     "inputWidgets": {},
     "nuid": "a075e5f6-f030-487c-bd8f-1dd40bd3f8ec",
     "showTitle": false,
     "tableResultSettingsMap": {},
     "title": ""
    }
   },
   "outputs": [
    {
     "output_type": "stream",
     "name": "stdout",
     "output_type": "stream",
     "text": [
      "✅ Tabela info_corridas_do_dia, criada com sucesso\nOut[14]: DataFrame[DT_REFE: date, QT_CORR: int, QT_CORR_NEG: int, QT_CORR_PESS: int, VL_MAX_DIST: int, VL_MIN_DIST: int, VL_AVG_DIST: decimal(10,2), QT_CORR_REUNI: int, QT_CORR_NAO_REUNI: int]"
     ]
    }
   ],
   "source": [
    "criar_tabela_calculada(colunas, nome_tabela, particao)"
   ]
  },
  {
   "cell_type": "code",
   "execution_count": 0,
   "metadata": {
    "application/vnd.databricks.v1+cell": {
     "cellMetadata": {
      "byteLimit": 2048000,
      "implicitDf": true,
      "rowLimit": 10000
     },
     "inputWidgets": {},
     "nuid": "91d8eeda-bf52-49d5-90ec-e9e66419f750",
     "showTitle": false,
     "tableResultSettingsMap": {},
     "title": ""
    }
   },
   "outputs": [
    {
     "output_type": "display_data",
     "data": {
      "text/html": [
       "<style scoped>\n",
       "  .table-result-container {\n",
       "    max-height: 300px;\n",
       "    overflow: auto;\n",
       "  }\n",
       "  table, th, td {\n",
       "    border: 1px solid black;\n",
       "    border-collapse: collapse;\n",
       "  }\n",
       "  th, td {\n",
       "    padding: 5px;\n",
       "  }\n",
       "  th {\n",
       "    text-align: left;\n",
       "  }\n",
       "</style><div class='table-result-container'><table class='table-result'><thead style='background-color: white'><tr><th>DT_REFE</th><th>QT_CORR</th><th>QT_CORR_NEG</th><th>QT_CORR_PESS</th><th>VL_MAX_DIST</th><th>VL_MIN_DIST</th><th>VL_AVG_DIST</th><th>QT_CORR_REUNI</th><th>QT_CORR_NAO_REUNI</th></tr></thead><tbody></tbody></table></div>"
      ]
     },
     "metadata": {
      "application/vnd.databricks.v1+output": {
       "addedWidgets": {},
       "aggData": [],
       "aggError": "",
       "aggOverflow": false,
       "aggSchema": [],
       "aggSeriesLimitReached": false,
       "aggType": "",
       "arguments": {},
       "columnCustomDisplayInfos": {},
       "data": [],
       "datasetInfos": [],
       "dbfsResultPath": null,
       "isJsonSchema": true,
       "metadata": {},
       "overflow": false,
       "plotOptions": {
        "customPlotOptions": {},
        "displayType": "table",
        "pivotAggregation": null,
        "pivotColumns": null,
        "xColumns": null,
        "yColumns": null
       },
       "removedWidgets": [],
       "schema": [
        {
         "metadata": "{}",
         "name": "DT_REFE",
         "type": "\"date\""
        },
        {
         "metadata": "{}",
         "name": "QT_CORR",
         "type": "\"integer\""
        },
        {
         "metadata": "{}",
         "name": "QT_CORR_NEG",
         "type": "\"integer\""
        },
        {
         "metadata": "{}",
         "name": "QT_CORR_PESS",
         "type": "\"integer\""
        },
        {
         "metadata": "{}",
         "name": "VL_MAX_DIST",
         "type": "\"integer\""
        },
        {
         "metadata": "{}",
         "name": "VL_MIN_DIST",
         "type": "\"integer\""
        },
        {
         "metadata": "{}",
         "name": "VL_AVG_DIST",
         "type": "\"decimal(10,2)\""
        },
        {
         "metadata": "{}",
         "name": "QT_CORR_REUNI",
         "type": "\"integer\""
        },
        {
         "metadata": "{}",
         "name": "QT_CORR_NAO_REUNI",
         "type": "\"integer\""
        }
       ],
       "type": "table"
      }
     },
     "output_type": "display_data"
    }
   ],
   "source": [
    "%sql\n",
    "select\n",
    "*\n",
    "from\n",
    "info_corridas_do_dia"
   ]
  },
  {
   "cell_type": "code",
   "execution_count": 0,
   "metadata": {
    "application/vnd.databricks.v1+cell": {
     "cellMetadata": {
      "byteLimit": 2048000,
      "implicitDf": true,
      "rowLimit": 10000
     },
     "inputWidgets": {},
     "nuid": "4ebf3429-d9c4-467d-88ed-0254166bf44e",
     "showTitle": false,
     "tableResultSettingsMap": {},
     "title": ""
    }
   },
   "outputs": [
    {
     "output_type": "display_data",
     "data": {
      "text/html": [
       "<style scoped>\n",
       "  .table-result-container {\n",
       "    max-height: 300px;\n",
       "    overflow: auto;\n",
       "  }\n",
       "  table, th, td {\n",
       "    border: 1px solid black;\n",
       "    border-collapse: collapse;\n",
       "  }\n",
       "  th, td {\n",
       "    padding: 5px;\n",
       "  }\n",
       "  th {\n",
       "    text-align: left;\n",
       "  }\n",
       "</style><div class='table-result-container'><table class='table-result'><thead style='background-color: white'><tr><th>col_name</th><th>data_type</th><th>comment</th></tr></thead><tbody><tr><td>DT_REFE</td><td>date</td><td>null</td></tr><tr><td>QT_CORR</td><td>int</td><td>null</td></tr><tr><td>QT_CORR_NEG</td><td>int</td><td>null</td></tr><tr><td>QT_CORR_PESS</td><td>int</td><td>null</td></tr><tr><td>VL_MAX_DIST</td><td>int</td><td>null</td></tr><tr><td>VL_MIN_DIST</td><td>int</td><td>null</td></tr><tr><td>VL_AVG_DIST</td><td>decimal(10,2)</td><td>null</td></tr><tr><td>QT_CORR_REUNI</td><td>int</td><td>null</td></tr><tr><td>QT_CORR_NAO_REUNI</td><td>int</td><td>null</td></tr><tr><td># Partition Information</td><td></td><td></td></tr><tr><td># col_name</td><td>data_type</td><td>comment</td></tr><tr><td>DT_REFE</td><td>date</td><td>null</td></tr></tbody></table></div>"
      ]
     },
     "metadata": {
      "application/vnd.databricks.v1+output": {
       "addedWidgets": {},
       "aggData": [],
       "aggError": "",
       "aggOverflow": false,
       "aggSchema": [],
       "aggSeriesLimitReached": false,
       "aggType": "",
       "arguments": {},
       "columnCustomDisplayInfos": {},
       "data": [
        [
         "DT_REFE",
         "date",
         null
        ],
        [
         "QT_CORR",
         "int",
         null
        ],
        [
         "QT_CORR_NEG",
         "int",
         null
        ],
        [
         "QT_CORR_PESS",
         "int",
         null
        ],
        [
         "VL_MAX_DIST",
         "int",
         null
        ],
        [
         "VL_MIN_DIST",
         "int",
         null
        ],
        [
         "VL_AVG_DIST",
         "decimal(10,2)",
         null
        ],
        [
         "QT_CORR_REUNI",
         "int",
         null
        ],
        [
         "QT_CORR_NAO_REUNI",
         "int",
         null
        ],
        [
         "# Partition Information",
         "",
         ""
        ],
        [
         "# col_name",
         "data_type",
         "comment"
        ],
        [
         "DT_REFE",
         "date",
         null
        ]
       ],
       "datasetInfos": [],
       "dbfsResultPath": null,
       "isJsonSchema": true,
       "metadata": {},
       "overflow": false,
       "plotOptions": {
        "customPlotOptions": {},
        "displayType": "table",
        "pivotAggregation": null,
        "pivotColumns": null,
        "xColumns": null,
        "yColumns": null
       },
       "removedWidgets": [],
       "schema": [
        {
         "metadata": "{\"comment\":\"name of the column\"}",
         "name": "col_name",
         "type": "\"string\""
        },
        {
         "metadata": "{\"comment\":\"data type of the column\"}",
         "name": "data_type",
         "type": "\"string\""
        },
        {
         "metadata": "{\"comment\":\"comment of the column\"}",
         "name": "comment",
         "type": "\"string\""
        }
       ],
       "type": "table"
      }
     },
     "output_type": "display_data"
    }
   ],
   "source": [
    "%sql\n",
    "describe table info_corridas_do_dia"
   ]
  }
 ],
 "metadata": {
  "application/vnd.databricks.v1+notebook": {
   "computePreferences": null,
   "dashboards": [],
   "environmentMetadata": {
    "base_environment": "",
    "environment_version": "1"
   },
   "inputWidgetPreferences": null,
   "language": "python",
   "notebookMetadata": {
    "mostRecentlyExecutedCommandWithImplicitDF": {
     "commandId": 861487263591058,
     "dataframes": [
      "_sqldf"
     ]
    },
    "pythonIndentUnit": 4
   },
   "notebookName": "CATALOG",
   "widgets": {}
  }
 },
 "nbformat": 4,
 "nbformat_minor": 0
}